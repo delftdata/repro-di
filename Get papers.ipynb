{
 "cells": [
  {
   "cell_type": "code",
   "execution_count": 1,
   "metadata": {
    "ExecuteTime": {
     "end_time": "2020-04-16T13:07:57.262597Z",
     "start_time": "2020-04-16T13:07:56.779874Z"
    }
   },
   "outputs": [],
   "source": [
    "import requests\n",
    "import pandas as pd \n",
    "import time\n",
    "\n",
    "from tqdm import tqdm\n"
   ]
  },
  {
   "cell_type": "code",
   "execution_count": 2,
   "metadata": {
    "ExecuteTime": {
     "end_time": "2020-04-16T13:07:57.541929Z",
     "start_time": "2020-04-16T13:07:57.539565Z"
    }
   },
   "outputs": [],
   "source": [
    "venues = 'SIGMOD|Management of Data|EDBT|Extending Database Technology|ICDE|Data Engineering|CIKM|Information and Knowledge Management|PVLDB|VLDB|Very Large|KDD|Knowledge Discovery and Data|CIDR|Innovative Data Systems|TODS|TKDE|Transactions on Knowledge and Data Engineering|PODS'\n",
    "partial_url = 'https://api.semanticscholar.org/v1/paper/'\n",
    "unk_ref = '?include_unknown_references=true'"
   ]
  },
  {
   "cell_type": "markdown",
   "metadata": {},
   "source": [
    "# Get citations/references from a given papers\n",
    "\n",
    "original_paper_url: Semantic scholar paper url \n",
    "\n",
    "type_of_papers: 'citations' or 'references' \n",
    "\n",
    "include_venues: String containing the name of the venues or keywords describing the venues separated by '|' \n",
    "\n",
    "__Return__: pandas DataFrame containing a list of papers and their details as returned from sematic scholars"
   ]
  },
  {
   "cell_type": "code",
   "execution_count": 8,
   "metadata": {
    "ExecuteTime": {
     "end_time": "2020-04-14T08:43:31.933313Z",
     "start_time": "2020-04-14T08:43:31.927458Z"
    }
   },
   "outputs": [],
   "source": [
    "def get_papers_from_original_paper(original_paper_id, type_of_papers, include_venues, include_unk_ref=True):\n",
    "    \n",
    "    if include_unk_ref:\n",
    "        url = '{}{}{}'.format(partial_url, original_paper_id, unk_ref)\n",
    "    else:\n",
    "        url = '{}{}'.format(partial_url, original_paper_id)\n",
    "    \n",
    "    r = requests.get(url=url)\n",
    "    data = r.json()\n",
    "    \n",
    "    papers_from_venue = list()\n",
    "    \n",
    "    if len(data[type_of_papers]) > 0:\n",
    "        df = pd.DataFrame.from_dict(data[type_of_papers])\n",
    "        papers_from_venue = df[df['venue'].str.contains(include_venues)]\n",
    "   \n",
    "    return papers_from_venue\n"
   ]
  },
  {
   "cell_type": "markdown",
   "metadata": {},
   "source": [
    "# Get details about each citation/reference\n",
    "\n",
    "papers_from_venue: DataFrame computed with 'get_papers_from_original_paper'\n",
    "\n",
    "__Return__: The number of remaining papers (semantic scholars only accepts a limited number of requests, \n",
    "so we have to ensure that all the papers where retrieved) __and__ a list of papers with details such as: paperId, title, number of citations and citation velocity. "
   ]
  },
  {
   "cell_type": "code",
   "execution_count": 4,
   "metadata": {
    "ExecuteTime": {
     "end_time": "2020-04-14T08:40:23.908520Z",
     "start_time": "2020-04-14T08:40:23.901051Z"
    }
   },
   "outputs": [],
   "source": [
    "def get_papers_with_citation_velocity(papers_from_venue):\n",
    "    papers = list()\n",
    "    print('Total number of papers: {}'.format(len(papers_from_venue)))\n",
    "    iterations = 0\n",
    "    \n",
    "    for index, row in tqdm(papers_from_venue.iterrows()):\n",
    "        r = requests.get(url='{}{}'.format(partial_url, row['paperId']))\n",
    "        data = r.json()\n",
    "\n",
    "        if 'message' in data:\n",
    "            if data['message'] == 'Forbidden':\n",
    "                break\n",
    "\n",
    "        paper_details = dict()\n",
    "        paper_details['paperId'] = row['paperId']\n",
    "        paper_details['title'] = data['title']\n",
    "        paper_details['nrCitations'] = len(data['citations'])\n",
    "\n",
    "        if 'citationVelocity' in data:\n",
    "            paper_details['citationVelocity'] = data['citationVelocity']\n",
    "\n",
    "        papers.append(paper_details)\n",
    "        iterations = iterations + 1\n",
    "   \n",
    "    remaining = len(papers_from_venue)-iterations\n",
    "    print('Remaining papers: {}'.format(remaining))\n",
    "    \n",
    "    return remaining, papers"
   ]
  },
  {
   "cell_type": "markdown",
   "metadata": {},
   "source": [
    "# Get details about all the citations/references \n",
    "Using the functions above, get the details about the papers \n",
    "\n",
    "type_of_papers: 'citations' or 'references'\n",
    "\n",
    "__Return__: pandas DataFrame containing all the papers"
   ]
  },
  {
   "cell_type": "code",
   "execution_count": 9,
   "metadata": {
    "ExecuteTime": {
     "end_time": "2020-04-14T08:43:42.441485Z",
     "start_time": "2020-04-14T08:43:42.435527Z"
    }
   },
   "outputs": [],
   "source": [
    "def get_papers(original_paper_id, type_of_papers, unk_ref=True):\n",
    "    papers = get_papers_from_original_paper(original_paper_id, type_of_papers, venues, unk_ref)\n",
    "\n",
    "    if len(papers) == 0:\n",
    "        return None\n",
    "    \n",
    "    remaining = len(papers)\n",
    "    all_papers = list()\n",
    "\n",
    "    while remaining != 0:\n",
    "        p = papers.iloc[-remaining:]\n",
    "        remaining, papers_with_velocity = get_papers_with_citation_velocity(p)\n",
    "\n",
    "        all_papers = all_papers + papers_with_velocity\n",
    "        \n",
    "        if remaining != 0:\n",
    "            print('Sleep 90s')\n",
    "            time.sleep(90) # the requests are blocked if too many are executed, so let's wait a bit\n",
    "        \n",
    "    return pd.DataFrame.from_dict(all_papers)"
   ]
  },
  {
   "cell_type": "markdown",
   "metadata": {},
   "source": [
    "# Filter the papers and save them in csv file\n",
    "\n",
    "papers_df: The DataFrame computed with 'get_papers'\n",
    "file_name: The name of the output csv file (without extension) \n",
    "\n",
    "__Return__: The filtered DataFrame"
   ]
  },
  {
   "cell_type": "code",
   "execution_count": 6,
   "metadata": {
    "ExecuteTime": {
     "end_time": "2020-04-14T08:40:29.706083Z",
     "start_time": "2020-04-14T08:40:29.699847Z"
    }
   },
   "outputs": [],
   "source": [
    "def filter_save_selected_papers(papers_df, file_name, original_paper_identifier):\n",
    "    papers_with_citations = papers_df[papers_df['citationVelocity'] > 0]\n",
    "    papers_with_citations = papers_with_citations.sort_values(by=['citationVelocity'], ascending=False)\n",
    "    papers_with_citations = papers_with_citations.drop_duplicates(['title'])\n",
    "    papers_with_citations.to_csv('{}_{}.csv'.format(original_paper_identifier, file_name), index=False)\n",
    "    \n",
    "    return papers_with_citations"
   ]
  },
  {
   "cell_type": "markdown",
   "metadata": {},
   "source": [
    "# Select papers after manually inspection\n",
    "\n",
    "file_name: The name of the file with the list of papers \n",
    "select_indexes: A list with the indexes of the manually selected papers\n",
    "\n",
    "__Return__: pandas DataFrame with the selected papers"
   ]
  },
  {
   "cell_type": "code",
   "execution_count": 15,
   "metadata": {
    "ExecuteTime": {
     "end_time": "2020-04-16T14:32:58.974446Z",
     "start_time": "2020-04-16T14:32:58.969165Z"
    }
   },
   "outputs": [],
   "source": [
    "def select_papers(file_name, paper_ids, out_name=None):\n",
    "    if 'csv' in file_name:\n",
    "        df = pd.read_csv(file_name)\n",
    "    else:\n",
    "        file_name = '{}.csv'.format(file_name)\n",
    "        df = pd.read_csv(file_name)\n",
    "\n",
    "#     selected = df.loc[select_indexes, :]\n",
    "    selected = df[df['paperId'].isin(paper_ids)]\n",
    "\n",
    "    if out_name:\n",
    "        selected.to_csv('selected_{}'.format(out_name), index=False)\n",
    "    else:\n",
    "        selected.to_csv('selected_{}'.format(file_name), index=False)\n",
    "    \n",
    "    return selected"
   ]
  },
  {
   "cell_type": "code",
   "execution_count": 11,
   "metadata": {
    "ExecuteTime": {
     "end_time": "2020-04-16T13:18:52.788481Z",
     "start_time": "2020-04-16T13:18:52.782473Z"
    }
   },
   "outputs": [],
   "source": [
    "def get_year_venue(file):\n",
    "    df = pd.read_csv(file)\n",
    "    df['year'] = 0\n",
    "    df['venue'] = 0\n",
    "    \n",
    "    for index, row in tqdm(df.iterrows()):\n",
    "        url = '{}{}'.format(partial_url, row['paperId'])\n",
    "        r = requests.get(url=url)\n",
    "        data = r.json()\n",
    "        df.loc[df['paperId'] == row['paperId'], 'venue'] = data['venue']\n",
    "        df.loc[df['paperId'] == row['paperId'], 'year'] = data['year']\n",
    "    \n",
    "    df.to_csv(file, index=False)\n",
    "        "
   ]
  },
  {
   "cell_type": "code",
   "execution_count": 18,
   "metadata": {
    "ExecuteTime": {
     "end_time": "2020-04-16T14:34:12.196505Z",
     "start_time": "2020-04-16T14:34:02.536913Z"
    }
   },
   "outputs": [
    {
     "name": "stderr",
     "output_type": "stream",
     "text": [
      "5it [00:06,  1.26s/it]\n",
      "3it [00:03,  1.12s/it]\n"
     ]
    }
   ],
   "source": [
    "from os import listdir\n",
    "from os.path import isfile, join\n",
    "\n",
    "path = '.'\n",
    "onlyfiles = [f for f in listdir(path) if isfile(join(path, f))]\n",
    "onlyfiles = [f for f in onlyfiles if '_2' in f]\n",
    "\n",
    "processed = list(map(lambda f: get_year_venue(f), onlyfiles))"
   ]
  },
  {
   "cell_type": "markdown",
   "metadata": {},
   "source": [
    "# Examples"
   ]
  },
  {
   "cell_type": "markdown",
   "metadata": {
    "heading_collapsed": true
   },
   "source": [
    "## Schema matching"
   ]
  },
  {
   "cell_type": "code",
   "execution_count": 41,
   "metadata": {
    "ExecuteTime": {
     "end_time": "2020-03-30T17:26:28.688968Z",
     "start_time": "2020-03-30T17:18:09.303282Z"
    },
    "collapsed": true,
    "hidden": true
   },
   "outputs": [
    {
     "name": "stderr",
     "output_type": "stream",
     "text": [
      "\n",
      "\n",
      "0it [00:00, ?it/s]\u001b[A\u001b[A"
     ]
    },
    {
     "name": "stdout",
     "output_type": "stream",
     "text": [
      "Total number of papers: 19\n"
     ]
    },
    {
     "name": "stderr",
     "output_type": "stream",
     "text": [
      "\n",
      "\n",
      "1it [00:00,  1.07it/s]\u001b[A\u001b[A\n",
      "\n",
      "2it [00:03,  1.33s/it]\u001b[A\u001b[A\n",
      "\n",
      "3it [00:04,  1.24s/it]\u001b[A\u001b[A\n",
      "\n",
      "4it [00:04,  1.06s/it]\u001b[A\u001b[A\n",
      "\n",
      "5it [00:08,  1.85s/it]\u001b[A\u001b[A\n",
      "\n",
      "6it [00:08,  1.39s/it]\u001b[A\u001b[A\n",
      "\n",
      "7it [00:10,  1.45s/it]\u001b[A\u001b[A\n",
      "\n",
      "8it [00:13,  1.92s/it]\u001b[A\u001b[A\n",
      "\n",
      "9it [00:15,  2.01s/it]\u001b[A\u001b[A\n",
      "\n",
      "10it [00:16,  1.64s/it]\u001b[A\u001b[A\n",
      "\n",
      "11it [00:18,  1.71s/it]\u001b[A\u001b[A\n",
      "\n",
      "12it [00:19,  1.52s/it]\u001b[A\u001b[A\n",
      "\n",
      "13it [00:20,  1.39s/it]\u001b[A\u001b[A\n",
      "\n",
      "14it [00:21,  1.37s/it]\u001b[A\u001b[A\n",
      "\n",
      "15it [00:22,  1.18s/it]\u001b[A\u001b[A\n",
      "\n",
      "16it [00:26,  1.99s/it]\u001b[A\u001b[A\n",
      "\n",
      "17it [00:27,  1.72s/it]\u001b[A\u001b[A\n",
      "\n",
      "18it [00:28,  1.58s/it]\u001b[A\u001b[A\n",
      "\n",
      "19it [00:30,  1.58s/it]\u001b[A\u001b[A\n"
     ]
    },
    {
     "name": "stdout",
     "output_type": "stream",
     "text": [
      "Remaining papers: 0\n"
     ]
    },
    {
     "name": "stderr",
     "output_type": "stream",
     "text": [
      "\n",
      "\n",
      "0it [00:00, ?it/s]\u001b[A\u001b[A"
     ]
    },
    {
     "name": "stdout",
     "output_type": "stream",
     "text": [
      "Total number of papers: 260\n"
     ]
    },
    {
     "name": "stderr",
     "output_type": "stream",
     "text": [
      "\n",
      "\n",
      "1it [00:00,  1.35it/s]\u001b[A\u001b[A\n",
      "\n",
      "2it [00:02,  1.09s/it]\u001b[A\u001b[A\n",
      "\n",
      "3it [00:03,  1.02s/it]\u001b[A\u001b[A\n",
      "\n",
      "4it [00:04,  1.11it/s]\u001b[A\u001b[A\n",
      "\n",
      "5it [00:04,  1.15it/s]\u001b[A\u001b[A\n",
      "\n",
      "6it [00:05,  1.19it/s]\u001b[A\u001b[A\n",
      "\n",
      "7it [00:06,  1.22it/s]\u001b[A\u001b[A\n",
      "\n",
      "8it [00:07,  1.01it/s]\u001b[A\u001b[A\n",
      "\n",
      "9it [00:08,  1.06it/s]\u001b[A\u001b[A\n",
      "\n",
      "10it [00:09,  1.30it/s]\u001b[A\u001b[A\n",
      "\n",
      "11it [00:11,  1.16s/it]\u001b[A\u001b[A\n",
      "\n",
      "12it [00:13,  1.53s/it]\u001b[A\u001b[A\n",
      "\n",
      "13it [00:14,  1.49s/it]\u001b[A\u001b[A\n",
      "\n",
      "14it [00:15,  1.33s/it]\u001b[A\u001b[A\n",
      "\n",
      "15it [00:17,  1.30s/it]\u001b[A\u001b[A\n",
      "\n",
      "16it [00:17,  1.15s/it]\u001b[A\u001b[A\n",
      "\n",
      "17it [00:19,  1.30s/it]\u001b[A\u001b[A\n",
      "\n",
      "18it [00:20,  1.19s/it]\u001b[A\u001b[A\n",
      "\n",
      "19it [00:21,  1.09s/it]\u001b[A\u001b[A\n",
      "\n",
      "20it [00:22,  1.10s/it]\u001b[A\u001b[A\n",
      "\n",
      "21it [00:23,  1.00s/it]\u001b[A\u001b[A\n",
      "\n",
      "22it [00:24,  1.01s/it]\u001b[A\u001b[A\n",
      "\n",
      "23it [00:25,  1.07s/it]\u001b[A\u001b[A\n",
      "\n",
      "24it [00:26,  1.15s/it]\u001b[A\u001b[A\n",
      "\n",
      "25it [00:28,  1.17s/it]\u001b[A\u001b[A\n",
      "\n",
      "26it [00:29,  1.15s/it]\u001b[A\u001b[A\n",
      "\n",
      "27it [00:31,  1.42s/it]\u001b[A\u001b[A\n",
      "\n",
      "28it [00:32,  1.29s/it]\u001b[A\u001b[A\n",
      "\n",
      "29it [00:32,  1.06s/it]\u001b[A\u001b[A\n",
      "\n",
      "30it [00:33,  1.10it/s]\u001b[A\u001b[A\n",
      "\n",
      "31it [00:33,  1.38it/s]\u001b[A\u001b[A\n",
      "\n",
      "32it [00:34,  1.33it/s]\u001b[A\u001b[A\n",
      "\n",
      "33it [00:35,  1.16it/s]\u001b[A\u001b[A\n",
      "\n",
      "34it [00:36,  1.12it/s]\u001b[A\u001b[A\n",
      "\n",
      "35it [00:37,  1.07it/s]\u001b[A\u001b[A\n",
      "\n",
      "36it [00:37,  1.31it/s]\u001b[A\u001b[A\n",
      "\n",
      "37it [00:39,  1.06s/it]\u001b[A\u001b[A\n",
      "\n",
      "38it [00:40,  1.07it/s]\u001b[A\u001b[A\n",
      "\n",
      "39it [00:41,  1.02it/s]\u001b[A\u001b[A\n",
      "\n",
      "40it [00:42,  1.03it/s]\u001b[A\u001b[A\n",
      "\n",
      "41it [00:44,  1.26s/it]\u001b[A\u001b[A\n",
      "\n",
      "42it [00:45,  1.20s/it]\u001b[A\u001b[A\n",
      "\n",
      "43it [00:46,  1.20s/it]\u001b[A\u001b[A\n",
      "\n",
      "44it [00:47,  1.17s/it]\u001b[A\u001b[A\n",
      "\n",
      "45it [00:48,  1.10s/it]\u001b[A\u001b[A\n",
      "\n",
      "46it [00:49,  1.11s/it]\u001b[A\u001b[A\n",
      "\n",
      "47it [00:50,  1.02it/s]\u001b[A\u001b[A\n",
      "\n",
      "48it [00:51,  1.07it/s]\u001b[A\u001b[A\n",
      "\n",
      "49it [00:52,  1.13s/it]\u001b[A\u001b[A\n",
      "\n",
      "50it [00:53,  1.16s/it]\u001b[A\u001b[A\n",
      "\n",
      "51it [00:54,  1.02it/s]\u001b[A\u001b[A\n",
      "\n",
      "52it [00:55,  1.06it/s]\u001b[A\u001b[A\n",
      "\n",
      "53it [00:56,  1.10s/it]\u001b[A\u001b[A\n",
      "\n",
      "54it [00:58,  1.40s/it]\u001b[A\u001b[A\n",
      "\n",
      "55it [01:00,  1.53s/it]\u001b[A\u001b[A\n",
      "\n",
      "56it [01:01,  1.35s/it]\u001b[A\u001b[A\n",
      "\n",
      "57it [01:02,  1.27s/it]\u001b[A\u001b[A\n",
      "\n",
      "58it [01:03,  1.08s/it]\u001b[A\u001b[A\n",
      "\n",
      "59it [01:04,  1.03s/it]\u001b[A\u001b[A\n",
      "\n",
      "60it [01:06,  1.44s/it]\u001b[A\u001b[A\n",
      "\n",
      "61it [01:08,  1.45s/it]\u001b[A\u001b[A\n",
      "\n",
      "62it [01:09,  1.48s/it]\u001b[A\u001b[A\n",
      "\n",
      "63it [01:11,  1.49s/it]\u001b[A\u001b[A\n",
      "\n",
      "64it [01:12,  1.43s/it]\u001b[A\u001b[A\n",
      "\n",
      "65it [01:13,  1.25s/it]\u001b[A\u001b[A\n",
      "\n",
      "66it [01:14,  1.25s/it]\u001b[A\u001b[A\n",
      "\n",
      "67it [01:15,  1.18s/it]\u001b[A\u001b[A\n",
      "\n",
      "68it [01:16,  1.04it/s]\u001b[A\u001b[A\n",
      "\n",
      "69it [01:16,  1.08it/s]\u001b[A\u001b[A\n",
      "\n",
      "70it [01:17,  1.18it/s]\u001b[A\u001b[A\n",
      "\n",
      "71it [01:18,  1.14it/s]\u001b[A\u001b[A\n",
      "\n",
      "72it [01:19,  1.01it/s]\u001b[A\u001b[A\n",
      "\n",
      "73it [01:20,  1.04s/it]\u001b[A\u001b[A\n",
      "\n",
      "74it [01:25,  2.03s/it]\u001b[A\u001b[A\n",
      "\n",
      "75it [01:33,  3.97s/it]\u001b[A\u001b[A\n",
      "\n",
      "76it [01:34,  2.96s/it]\u001b[A\u001b[A\n",
      "\n",
      "77it [01:35,  2.32s/it]\u001b[A\u001b[A\n",
      "\n",
      "78it [01:36,  1.90s/it]\u001b[A\u001b[A\n",
      "\n",
      "79it [01:36,  1.48s/it]\u001b[A\u001b[A\n",
      "\n",
      "80it [01:37,  1.37s/it]\u001b[A\u001b[A\n",
      "\n",
      "81it [01:40,  1.71s/it]\u001b[A\u001b[A\n",
      "\n",
      "82it [01:41,  1.43s/it]\u001b[A\u001b[A\n",
      "\n",
      "83it [01:42,  1.35s/it]\u001b[A\u001b[A\n",
      "\n",
      "84it [01:43,  1.32s/it]\u001b[A\u001b[A\n",
      "\n",
      "85it [01:45,  1.44s/it]\u001b[A\u001b[A\n",
      "\n",
      "86it [01:46,  1.37s/it]\u001b[A\u001b[A\n",
      "\n",
      "87it [01:48,  1.53s/it]\u001b[A\u001b[A\n",
      "\n",
      "88it [01:49,  1.48s/it]\u001b[A\u001b[A\n",
      "\n",
      "89it [01:50,  1.20s/it]\u001b[A\u001b[A\n",
      "\n",
      "90it [01:51,  1.09s/it]\u001b[A\u001b[A\n",
      "\n",
      "91it [01:52,  1.22s/it]\u001b[A\u001b[A\n",
      "\n",
      "92it [01:53,  1.16s/it]\u001b[A\u001b[A\n",
      "\n",
      "93it [01:54,  1.06s/it]\u001b[A\u001b[A\n",
      "\n",
      "94it [01:55,  1.04s/it]\u001b[A\u001b[A\n",
      "\n",
      "95it [01:57,  1.23s/it]\u001b[A\u001b[A\n",
      "\n",
      "96it [01:58,  1.23s/it]\u001b[A\u001b[A\n",
      "\n",
      "97it [01:58,  1.03s/it]\u001b[A\u001b[A\n",
      "\n",
      "98it [01:59,  1.03it/s]\u001b[A\u001b[A\n",
      "\n",
      "99it [02:01,  1.23s/it]\u001b[A\u001b[A\n",
      "\n",
      "100it [02:01,  1.04it/s]\u001b[A\u001b[A\n",
      "\n",
      "101it [02:02,  1.08it/s]\u001b[A\u001b[A\n",
      "\n",
      "102it [02:03,  1.23it/s]\u001b[A\u001b[A\n",
      "\n",
      "103it [02:05,  1.13s/it]\u001b[A\u001b[A"
     ]
    },
    {
     "name": "stdout",
     "output_type": "stream",
     "text": [
      "Remaining papers: 157\n",
      "Sleep 90s\n"
     ]
    },
    {
     "name": "stderr",
     "output_type": "stream",
     "text": [
      "\n",
      "\n",
      "\n",
      "0it [00:00, ?it/s]\u001b[A\u001b[A\u001b[A"
     ]
    },
    {
     "name": "stdout",
     "output_type": "stream",
     "text": [
      "Total number of papers: 157\n"
     ]
    },
    {
     "name": "stderr",
     "output_type": "stream",
     "text": [
      "0it [00:01, ?it/s]\n"
     ]
    },
    {
     "name": "stdout",
     "output_type": "stream",
     "text": [
      "Remaining papers: 157\n",
      "Sleep 90s\n"
     ]
    },
    {
     "name": "stderr",
     "output_type": "stream",
     "text": [
      "\n",
      "\n",
      "\n",
      "0it [00:00, ?it/s]\u001b[A\u001b[A\u001b[A"
     ]
    },
    {
     "name": "stdout",
     "output_type": "stream",
     "text": [
      "Total number of papers: 157\n"
     ]
    },
    {
     "name": "stderr",
     "output_type": "stream",
     "text": [
      "\n",
      "\n",
      "\n",
      "1it [00:00,  1.51it/s]\u001b[A\u001b[A\u001b[A\n",
      "\n",
      "\n",
      "2it [00:02,  1.02s/it]\u001b[A\u001b[A\u001b[A\n",
      "\n",
      "\n",
      "3it [00:03,  1.05it/s]\u001b[A\u001b[A\u001b[A\n",
      "\n",
      "\n",
      "4it [00:04,  1.12it/s]\u001b[A\u001b[A\u001b[A\n",
      "\n",
      "\n",
      "5it [00:04,  1.25it/s]\u001b[A\u001b[A\u001b[A\n",
      "\n",
      "\n",
      "6it [00:05,  1.13it/s]\u001b[A\u001b[A\u001b[A\n",
      "\n",
      "\n",
      "7it [00:07,  1.18s/it]\u001b[A\u001b[A\u001b[A\n",
      "\n",
      "\n",
      "8it [00:08,  1.05s/it]\u001b[A\u001b[A\u001b[A\n",
      "\n",
      "\n",
      "9it [00:09,  1.01s/it]\u001b[A\u001b[A\u001b[A\n",
      "\n",
      "\n",
      "10it [00:10,  1.06it/s]\u001b[A\u001b[A\u001b[A\n",
      "\n",
      "\n",
      "11it [00:10,  1.13it/s]\u001b[A\u001b[A\u001b[A\n",
      "\n",
      "\n",
      "12it [00:11,  1.41it/s]\u001b[A\u001b[A\u001b[A\n",
      "\n",
      "\n",
      "13it [00:12,  1.23it/s]\u001b[A\u001b[A\u001b[A\n",
      "\n",
      "\n",
      "14it [00:13,  1.12it/s]\u001b[A\u001b[A\u001b[A\n",
      "\n",
      "\n",
      "15it [00:13,  1.17it/s]\u001b[A\u001b[A\u001b[A\n",
      "\n",
      "\n",
      "16it [00:15,  1.08it/s]\u001b[A\u001b[A\u001b[A\n",
      "\n",
      "\n",
      "17it [00:16,  1.02s/it]\u001b[A\u001b[A\u001b[A\n",
      "\n",
      "\n",
      "18it [00:17,  1.01s/it]\u001b[A\u001b[A\u001b[A\n",
      "\n",
      "\n",
      "19it [00:17,  1.18it/s]\u001b[A\u001b[A\u001b[A\n",
      "\n",
      "\n",
      "20it [00:18,  1.19it/s]\u001b[A\u001b[A\u001b[A\n",
      "\n",
      "\n",
      "21it [00:19,  1.20it/s]\u001b[A\u001b[A\u001b[A\n",
      "\n",
      "\n",
      "22it [00:20,  1.20it/s]\u001b[A\u001b[A\u001b[A\n",
      "\n",
      "\n",
      "23it [00:21,  1.22it/s]\u001b[A\u001b[A\u001b[A\n",
      "\n",
      "\n",
      "24it [00:21,  1.23it/s]\u001b[A\u001b[A\u001b[A\n",
      "\n",
      "\n",
      "25it [00:22,  1.21it/s]\u001b[A\u001b[A\u001b[A\n",
      "\n",
      "\n",
      "26it [00:23,  1.31it/s]\u001b[A\u001b[A\u001b[A\n",
      "\n",
      "\n",
      "27it [00:24,  1.29it/s]\u001b[A\u001b[A\u001b[A\n",
      "\n",
      "\n",
      "28it [00:24,  1.46it/s]\u001b[A\u001b[A\u001b[A\n",
      "\n",
      "\n",
      "29it [00:25,  1.51it/s]\u001b[A\u001b[A\u001b[A\n",
      "\n",
      "\n",
      "30it [00:25,  1.54it/s]\u001b[A\u001b[A\u001b[A\n",
      "\n",
      "\n",
      "31it [00:26,  1.48it/s]\u001b[A\u001b[A\u001b[A\n",
      "\n",
      "\n",
      "32it [00:27,  1.11it/s]\u001b[A\u001b[A\u001b[A\n",
      "\n",
      "\n",
      "33it [00:28,  1.14it/s]\u001b[A\u001b[A\u001b[A\n",
      "\n",
      "\n",
      "34it [00:30,  1.02s/it]\u001b[A\u001b[A\u001b[A\n",
      "\n",
      "\n",
      "35it [00:31,  1.01s/it]\u001b[A\u001b[A\u001b[A\n",
      "\n",
      "\n",
      "36it [00:31,  1.04it/s]\u001b[A\u001b[A\u001b[A\n",
      "\n",
      "\n",
      "37it [00:32,  1.04it/s]\u001b[A\u001b[A\u001b[A\n",
      "\n",
      "\n",
      "38it [00:34,  1.28s/it]\u001b[A\u001b[A\u001b[A\n",
      "\n",
      "\n",
      "39it [00:35,  1.12s/it]\u001b[A\u001b[A\u001b[A\n",
      "\n",
      "\n",
      "40it [00:37,  1.37s/it]\u001b[A\u001b[A\u001b[A\n",
      "\n",
      "\n",
      "41it [00:38,  1.25s/it]\u001b[A\u001b[A\u001b[A\n",
      "\n",
      "\n",
      "42it [00:39,  1.08s/it]\u001b[A\u001b[A\u001b[A\n",
      "\n",
      "\n",
      "43it [00:41,  1.40s/it]\u001b[A\u001b[A\u001b[A\n",
      "\n",
      "\n",
      "44it [00:42,  1.27s/it]\u001b[A\u001b[A\u001b[A\n",
      "\n",
      "\n",
      "45it [00:43,  1.10s/it]\u001b[A\u001b[A\u001b[A\n",
      "\n",
      "\n",
      "46it [00:43,  1.14it/s]\u001b[A\u001b[A\u001b[A\n",
      "\n",
      "\n",
      "47it [00:44,  1.15it/s]\u001b[A\u001b[A\u001b[A\n",
      "\n",
      "\n",
      "48it [00:44,  1.41it/s]\u001b[A\u001b[A\u001b[A\n",
      "\n",
      "\n",
      "49it [00:46,  1.12it/s]\u001b[A\u001b[A\u001b[A\n",
      "\n",
      "\n",
      "50it [00:47,  1.04it/s]\u001b[A\u001b[A\u001b[A\n",
      "\n",
      "\n",
      "51it [00:48,  1.05it/s]\u001b[A\u001b[A\u001b[A\n",
      "\n",
      "\n",
      "52it [00:51,  1.76s/it]\u001b[A\u001b[A\u001b[A\n",
      "\n",
      "\n",
      "53it [00:52,  1.49s/it]\u001b[A\u001b[A\u001b[A\n",
      "\n",
      "\n",
      "54it [00:54,  1.57s/it]\u001b[A\u001b[A\u001b[A\n",
      "\n",
      "\n",
      "55it [00:55,  1.33s/it]\u001b[A\u001b[A\u001b[A\n",
      "\n",
      "\n",
      "56it [00:55,  1.19s/it]\u001b[A\u001b[A\u001b[A\n",
      "\n",
      "\n",
      "57it [00:57,  1.21s/it]\u001b[A\u001b[A\u001b[A\n",
      "\n",
      "\n",
      "58it [00:58,  1.17s/it]\u001b[A\u001b[A\u001b[A\n",
      "\n",
      "\n",
      "59it [00:59,  1.13s/it]\u001b[A\u001b[A\u001b[A\n",
      "\n",
      "\n",
      "60it [01:00,  1.04s/it]\u001b[A\u001b[A\u001b[A\n",
      "\n",
      "\n",
      "61it [01:00,  1.21it/s]\u001b[A\u001b[A\u001b[A\n",
      "\n",
      "\n",
      "62it [01:01,  1.20it/s]\u001b[A\u001b[A\u001b[A\n",
      "\n",
      "\n",
      "63it [01:01,  1.29it/s]\u001b[A\u001b[A\u001b[A\n",
      "\n",
      "\n",
      "64it [01:03,  1.01s/it]\u001b[A\u001b[A\u001b[A\n",
      "\n",
      "\n",
      "65it [01:04,  1.01s/it]\u001b[A\u001b[A\u001b[A\n",
      "\n",
      "\n",
      "66it [01:04,  1.21it/s]\u001b[A\u001b[A\u001b[A\n",
      "\n",
      "\n",
      "67it [01:06,  1.07it/s]\u001b[A\u001b[A\u001b[A\n",
      "\n",
      "\n",
      "68it [01:06,  1.17it/s]\u001b[A\u001b[A\u001b[A\n",
      "\n",
      "\n",
      "69it [01:07,  1.14it/s]\u001b[A\u001b[A\u001b[A\n",
      "\n",
      "\n",
      "70it [01:08,  1.25it/s]\u001b[A\u001b[A\u001b[A\n",
      "\n",
      "\n",
      "71it [01:09,  1.18it/s]\u001b[A\u001b[A\u001b[A\n",
      "\n",
      "\n",
      "72it [01:10,  1.00s/it]\u001b[A\u001b[A\u001b[A\n",
      "\n",
      "\n",
      "73it [01:11,  1.03s/it]\u001b[A\u001b[A\u001b[A\n",
      "\n",
      "\n",
      "74it [01:14,  1.57s/it]\u001b[A\u001b[A\u001b[A\n",
      "\n",
      "\n",
      "75it [01:15,  1.38s/it]\u001b[A\u001b[A\u001b[A\n",
      "\n",
      "\n",
      "76it [01:16,  1.36s/it]\u001b[A\u001b[A\u001b[A\n",
      "\n",
      "\n",
      "77it [01:18,  1.30s/it]\u001b[A\u001b[A\u001b[A\n",
      "\n",
      "\n",
      "78it [01:19,  1.47s/it]\u001b[A\u001b[A\u001b[A\n",
      "\n",
      "\n",
      "79it [01:20,  1.11s/it]\u001b[A\u001b[A\u001b[A\n",
      "\n",
      "\n",
      "80it [01:20,  1.09it/s]\u001b[A\u001b[A\u001b[A\n",
      "\n",
      "\n",
      "81it [01:22,  1.16s/it]\u001b[A\u001b[A\u001b[A\n",
      "\n",
      "\n",
      "82it [01:23,  1.06s/it]\u001b[A\u001b[A\u001b[A\n",
      "\n",
      "\n",
      "83it [01:23,  1.02it/s]\u001b[A\u001b[A\u001b[A\n",
      "\n",
      "\n",
      "84it [01:24,  1.16it/s]\u001b[A\u001b[A\u001b[A\n",
      "\n",
      "\n",
      "85it [01:26,  1.04s/it]\u001b[A\u001b[A\u001b[A\n",
      "\n",
      "\n",
      "86it [01:28,  1.32s/it]\u001b[A\u001b[A\u001b[A\n",
      "\n",
      "\n",
      "87it [01:29,  1.26s/it]\u001b[A\u001b[A\u001b[A\n",
      "\n",
      "\n",
      "88it [01:31,  1.73s/it]\u001b[A\u001b[A\u001b[A\n",
      "\n",
      "\n",
      "89it [01:32,  1.45s/it]\u001b[A\u001b[A\u001b[A\n",
      "\n",
      "\n",
      "90it [01:33,  1.38s/it]\u001b[A\u001b[A\u001b[A\n",
      "\n",
      "\n",
      "91it [01:34,  1.24s/it]\u001b[A\u001b[A\u001b[A\n",
      "\n",
      "\n",
      "92it [01:36,  1.31s/it]\u001b[A\u001b[A\u001b[A\n",
      "\n",
      "\n",
      "93it [01:37,  1.20s/it]\u001b[A\u001b[A\u001b[A\n",
      "\n",
      "\n",
      "94it [01:38,  1.12s/it]\u001b[A\u001b[A\u001b[A\n",
      "\n",
      "\n",
      "95it [01:39,  1.03s/it]\u001b[A\u001b[A\u001b[A\n",
      "\n",
      "\n",
      "96it [01:39,  1.14it/s]\u001b[A\u001b[A\u001b[A\n",
      "\n",
      "\n",
      "97it [01:40,  1.08it/s]\u001b[A\u001b[A\u001b[A\n",
      "\n",
      "\n",
      "98it [01:40,  1.34it/s]\u001b[A\u001b[A\u001b[A\n",
      "\n",
      "\n",
      "99it [01:42,  1.16it/s]\u001b[A\u001b[A\u001b[A\n",
      "\n",
      "\n",
      "100it [01:43,  1.05it/s]\u001b[A\u001b[A\u001b[A\n",
      "\n",
      "\n",
      "101it [01:44,  1.09it/s]\u001b[A\u001b[A\u001b[A\n",
      "\n",
      "\n",
      "102it [01:44,  1.27it/s]\u001b[A\u001b[A\u001b[A\n",
      "\n",
      "\n",
      "103it [01:45,  1.35it/s]\u001b[A\u001b[A\u001b[A\n",
      "\n",
      "\n",
      "104it [01:46,  1.00it/s]\u001b[A\u001b[A\u001b[A\n",
      "\n",
      "\n",
      "105it [01:48,  1.08s/it]\u001b[A\u001b[A\u001b[A\n",
      "\n",
      "\n",
      "106it [01:49,  1.08s/it]\u001b[A\u001b[A\u001b[A\n",
      "\n",
      "\n",
      "107it [01:50,  1.07s/it]\u001b[A\u001b[A\u001b[A\n",
      "\n",
      "\n",
      "108it [01:50,  1.18it/s]\u001b[A\u001b[A\u001b[A\n",
      "\n",
      "\n",
      "109it [01:51,  1.05it/s]\u001b[A\u001b[A\u001b[A\n",
      "\n",
      "\n",
      "110it [01:52,  1.26it/s]\u001b[A\u001b[A\u001b[A\n",
      "\n",
      "\n",
      "111it [01:52,  1.29it/s]\u001b[A\u001b[A\u001b[A\n",
      "\n",
      "\n",
      "112it [01:53,  1.58it/s]\u001b[A\u001b[A\u001b[A\n",
      "\n",
      "\n",
      "113it [01:54,  1.28it/s]\u001b[A\u001b[A\u001b[A\n",
      "\n",
      "\n",
      "114it [01:55,  1.18it/s]\u001b[A\u001b[A\u001b[A\n",
      "\n",
      "\n",
      "115it [01:55,  1.40it/s]\u001b[A\u001b[A\u001b[A\n",
      "\n",
      "\n",
      "116it [01:56,  1.65it/s]\u001b[A\u001b[A\u001b[A\n",
      "\n",
      "\n",
      "117it [01:56,  1.66it/s]\u001b[A\u001b[A\u001b[A\n",
      "\n",
      "\n",
      "118it [01:57,  1.74it/s]\u001b[A\u001b[A\u001b[A\n",
      "\n",
      "\n",
      "119it [01:57,  1.97it/s]\u001b[A\u001b[A\u001b[A\n",
      "\n",
      "\n",
      "120it [01:58,  1.74it/s]\u001b[A\u001b[A\u001b[A\n",
      "\n",
      "\n",
      "121it [01:59,  1.56it/s]\u001b[A\u001b[A\u001b[A\n",
      "\n",
      "\n",
      "122it [02:00,  1.34it/s]\u001b[A\u001b[A\u001b[A\n",
      "\n",
      "\n",
      "123it [02:01,  1.17it/s]\u001b[A\u001b[A\u001b[A\n",
      "\n",
      "\n",
      "124it [02:02,  1.11s/it]\u001b[A\u001b[A\u001b[A\n",
      "\n",
      "\n",
      "125it [02:03,  1.06s/it]\u001b[A\u001b[A\u001b[A\n",
      "\n",
      "\n",
      "126it [02:04,  1.04it/s]\u001b[A\u001b[A\u001b[A\n",
      "\n",
      "\n",
      "127it [02:05,  1.07it/s]\u001b[A\u001b[A\u001b[A\n",
      "\n",
      "\n",
      "128it [02:07,  1.19s/it]\u001b[A\u001b[A\u001b[A\n",
      "\n",
      "\n",
      "129it [02:09,  1.60s/it]\u001b[A\u001b[A\u001b[A\n",
      "\n",
      "\n",
      "130it [02:10,  1.36s/it]\u001b[A\u001b[A\u001b[A\n",
      "\n",
      "\n",
      "131it [02:11,  1.18s/it]\u001b[A\u001b[A\u001b[A\n",
      "\n",
      "\n",
      "132it [02:12,  1.07s/it]\u001b[A\u001b[A\u001b[A\n",
      "\n",
      "\n",
      "133it [02:13,  1.01s/it]\u001b[A\u001b[A\u001b[A\n",
      "\n",
      "\n",
      "134it [02:14,  1.06s/it]\u001b[A\u001b[A\u001b[A\n",
      "\n",
      "\n",
      "135it [02:15,  1.17s/it]\u001b[A\u001b[A\u001b[A\n",
      "\n",
      "\n",
      "136it [02:17,  1.36s/it]\u001b[A\u001b[A\u001b[A\n",
      "\n",
      "\n",
      "137it [02:19,  1.50s/it]\u001b[A\u001b[A\u001b[A\n",
      "\n",
      "\n",
      "138it [02:19,  1.16s/it]\u001b[A\u001b[A\u001b[A\n",
      "\n",
      "\n",
      "139it [02:20,  1.04s/it]\u001b[A\u001b[A\u001b[A\n",
      "\n",
      "\n",
      "140it [02:21,  1.03s/it]\u001b[A\u001b[A\u001b[A\n",
      "\n",
      "\n",
      "141it [02:22,  1.03s/it]\u001b[A\u001b[A\u001b[A\n",
      "\n",
      "\n",
      "142it [02:23,  1.04it/s]\u001b[A\u001b[A\u001b[A\n",
      "\n",
      "\n",
      "143it [02:24,  1.07it/s]\u001b[A\u001b[A\u001b[A\n",
      "\n",
      "\n",
      "144it [02:24,  1.11it/s]\u001b[A\u001b[A\u001b[A\n",
      "\n",
      "\n",
      "145it [02:26,  1.17s/it]\u001b[A\u001b[A\u001b[A\n",
      "\n",
      "\n",
      "146it [02:27,  1.08s/it]\u001b[A\u001b[A\u001b[A\n",
      "\n",
      "\n",
      "147it [02:27,  1.16it/s]\u001b[A\u001b[A\u001b[A\n",
      "\n",
      "\n",
      "148it [02:28,  1.35it/s]\u001b[A\u001b[A\u001b[A\n",
      "\n",
      "\n",
      "149it [02:29,  1.42it/s]\u001b[A\u001b[A\u001b[A\n",
      "\n",
      "\n",
      "150it [02:29,  1.38it/s]\u001b[A\u001b[A\u001b[A\n",
      "\n",
      "\n",
      "151it [02:30,  1.55it/s]\u001b[A\u001b[A\u001b[A\n",
      "\n",
      "\n",
      "152it [02:32,  1.06s/it]\u001b[A\u001b[A\u001b[A\n",
      "\n",
      "\n",
      "153it [02:33,  1.07s/it]\u001b[A\u001b[A\u001b[A\n",
      "\n",
      "\n",
      "154it [02:34,  1.00s/it]\u001b[A\u001b[A\u001b[A\n",
      "\n",
      "\n",
      "155it [02:34,  1.21it/s]\u001b[A\u001b[A\u001b[A\n",
      "\n",
      "\n",
      "156it [02:35,  1.13it/s]\u001b[A\u001b[A\u001b[A\n",
      "\n",
      "\n",
      "157it [02:36,  1.00it/s]\u001b[A\u001b[A\u001b[A"
     ]
    },
    {
     "name": "stdout",
     "output_type": "stream",
     "text": [
      "Remaining papers: 0\n"
     ]
    },
    {
     "name": "stderr",
     "output_type": "stream",
     "text": [
      "\n"
     ]
    }
   ],
   "source": [
    "# A survey of approaches to automatic schema matching\n",
    "schema_matching_survey = '580221d63ae75bdc7d68829916cf608e44a56b27'\n",
    "\n",
    "references_df = get_papers(schema_matching_survey, 'references')\n",
    "citations_df = get_papers(schema_matching_survey, 'citations')\n",
    "\n",
    "schema_matching_df = pd.concat([citations_df, references_df])\n",
    "filtered_schema_matching = filter_save_selected_papers(schema_matching_df, \n",
    "                                'schema_matching', schema_matching_survey)\n"
   ]
  },
  {
   "cell_type": "code",
   "execution_count": 43,
   "metadata": {
    "ExecuteTime": {
     "end_time": "2020-03-30T17:32:28.952195Z",
     "start_time": "2020-03-30T17:31:17.875377Z"
    },
    "collapsed": true,
    "hidden": true
   },
   "outputs": [
    {
     "name": "stderr",
     "output_type": "stream",
     "text": [
      "\n",
      "\n",
      "\n",
      "0it [00:00, ?it/s]\u001b[A\u001b[A\u001b[A"
     ]
    },
    {
     "name": "stdout",
     "output_type": "stream",
     "text": [
      "Total number of papers: 35\n"
     ]
    },
    {
     "name": "stderr",
     "output_type": "stream",
     "text": [
      "\n",
      "\n",
      "\n",
      "1it [00:01,  1.45s/it]\u001b[A\u001b[A\u001b[A\n",
      "\n",
      "\n",
      "2it [00:03,  1.59s/it]\u001b[A\u001b[A\u001b[A\n",
      "\n",
      "\n",
      "3it [00:04,  1.37s/it]\u001b[A\u001b[A\u001b[A\n",
      "\n",
      "\n",
      "4it [00:04,  1.05s/it]\u001b[A\u001b[A\u001b[A\n",
      "\n",
      "\n",
      "5it [00:05,  1.02s/it]\u001b[A\u001b[A\u001b[A\n",
      "\n",
      "\n",
      "6it [00:06,  1.12it/s]\u001b[A\u001b[A\u001b[A\n",
      "\n",
      "\n",
      "7it [00:09,  1.61s/it]\u001b[A\u001b[A\u001b[A\n",
      "\n",
      "\n",
      "8it [00:09,  1.22s/it]\u001b[A\u001b[A\u001b[A\n",
      "\n",
      "\n",
      "9it [00:10,  1.20s/it]\u001b[A\u001b[A\u001b[A\n",
      "\n",
      "\n",
      "10it [00:11,  1.14s/it]\u001b[A\u001b[A\u001b[A\n",
      "\n",
      "\n",
      "11it [00:13,  1.26s/it]\u001b[A\u001b[A\u001b[A\n",
      "\n",
      "\n",
      "12it [00:14,  1.28s/it]\u001b[A\u001b[A\u001b[A\n",
      "\n",
      "\n",
      "13it [00:15,  1.19s/it]\u001b[A\u001b[A\u001b[A\n",
      "\n",
      "\n",
      "14it [00:16,  1.13s/it]\u001b[A\u001b[A\u001b[A\n",
      "\n",
      "\n",
      "15it [00:17,  1.03s/it]\u001b[A\u001b[A\u001b[A\n",
      "\n",
      "\n",
      "16it [00:18,  1.00s/it]\u001b[A\u001b[A\u001b[A\n",
      "\n",
      "\n",
      "17it [00:19,  1.07it/s]\u001b[A\u001b[A\u001b[A\n",
      "\n",
      "\n",
      "18it [00:20,  1.05it/s]\u001b[A\u001b[A\u001b[A\n",
      "\n",
      "\n",
      "19it [00:21,  1.02s/it]\u001b[A\u001b[A\u001b[A\n",
      "\n",
      "\n",
      "20it [00:22,  1.19s/it]\u001b[A\u001b[A\u001b[A\n",
      "\n",
      "\n",
      "21it [00:23,  1.06s/it]\u001b[A\u001b[A\u001b[A\n",
      "\n",
      "\n",
      "22it [00:25,  1.18s/it]\u001b[A\u001b[A\u001b[A\n",
      "\n",
      "\n",
      "23it [00:26,  1.13s/it]\u001b[A\u001b[A\u001b[A\n",
      "\n",
      "\n",
      "24it [00:27,  1.08s/it]\u001b[A\u001b[A\u001b[A\n",
      "\n",
      "\n",
      "25it [00:28,  1.20s/it]\u001b[A\u001b[A\u001b[A\n",
      "\n",
      "\n",
      "26it [00:31,  1.59s/it]\u001b[A\u001b[A\u001b[A\n",
      "\n",
      "\n",
      "27it [00:32,  1.52s/it]\u001b[A\u001b[A\u001b[A\n",
      "\n",
      "\n",
      "28it [00:33,  1.29s/it]\u001b[A\u001b[A\u001b[A\n",
      "\n",
      "\n",
      "29it [00:34,  1.20s/it]\u001b[A\u001b[A\u001b[A\n",
      "\n",
      "\n",
      "30it [00:35,  1.37s/it]\u001b[A\u001b[A\u001b[A\n",
      "\n",
      "\n",
      "31it [00:36,  1.24s/it]\u001b[A\u001b[A\u001b[A\n",
      "\n",
      "\n",
      "32it [00:39,  1.64s/it]\u001b[A\u001b[A\u001b[A\n",
      "\n",
      "\n",
      "33it [00:41,  1.66s/it]\u001b[A\u001b[A\u001b[A\n",
      "\n",
      "\n",
      "34it [00:42,  1.53s/it]\u001b[A\u001b[A\u001b[A\n",
      "\n",
      "\n",
      "35it [00:44,  1.26s/it]\u001b[A\u001b[A\u001b[A\n"
     ]
    },
    {
     "name": "stdout",
     "output_type": "stream",
     "text": [
      "Remaining papers: 0\n"
     ]
    },
    {
     "name": "stderr",
     "output_type": "stream",
     "text": [
      "\n",
      "\n",
      "\n",
      "0it [00:00, ?it/s]\u001b[A\u001b[A\u001b[A"
     ]
    },
    {
     "name": "stdout",
     "output_type": "stream",
     "text": [
      "Total number of papers: 27\n"
     ]
    },
    {
     "name": "stderr",
     "output_type": "stream",
     "text": [
      "\n",
      "\n",
      "\n",
      "1it [00:00,  1.19it/s]\u001b[A\u001b[A\u001b[A\n",
      "\n",
      "\n",
      "2it [00:01,  1.10it/s]\u001b[A\u001b[A\u001b[A\n",
      "\n",
      "\n",
      "3it [00:03,  1.15s/it]\u001b[A\u001b[A\u001b[A\n",
      "\n",
      "\n",
      "4it [00:04,  1.05s/it]\u001b[A\u001b[A\u001b[A\n",
      "\n",
      "\n",
      "5it [00:04,  1.23it/s]\u001b[A\u001b[A\u001b[A\n",
      "\n",
      "\n",
      "6it [00:06,  1.04s/it]\u001b[A\u001b[A\u001b[A\n",
      "\n",
      "\n",
      "7it [00:07,  1.03it/s]\u001b[A\u001b[A\u001b[A\n",
      "\n",
      "\n",
      "8it [00:07,  1.05it/s]\u001b[A\u001b[A\u001b[A\n",
      "\n",
      "\n",
      "9it [00:08,  1.09it/s]\u001b[A\u001b[A\u001b[A\n",
      "\n",
      "\n",
      "10it [00:09,  1.29it/s]\u001b[A\u001b[A\u001b[A\n",
      "\n",
      "\n",
      "11it [00:10,  1.28it/s]\u001b[A\u001b[A\u001b[A\n",
      "\n",
      "\n",
      "12it [00:10,  1.26it/s]\u001b[A\u001b[A\u001b[A\n",
      "\n",
      "\n",
      "13it [00:11,  1.15it/s]\u001b[A\u001b[A\u001b[A\n",
      "\n",
      "\n",
      "14it [00:12,  1.44it/s]\u001b[A\u001b[A\u001b[A\n",
      "\n",
      "\n",
      "15it [00:13,  1.39it/s]\u001b[A\u001b[A\u001b[A\n",
      "\n",
      "\n",
      "16it [00:14,  1.20it/s]\u001b[A\u001b[A\u001b[A\n",
      "\n",
      "\n",
      "17it [00:14,  1.25it/s]\u001b[A\u001b[A\u001b[A\n",
      "\n",
      "\n",
      "18it [00:15,  1.12it/s]\u001b[A\u001b[A\u001b[A\n",
      "\n",
      "\n",
      "19it [00:16,  1.11it/s]\u001b[A\u001b[A\u001b[A\n",
      "\n",
      "\n",
      "20it [00:17,  1.04it/s]\u001b[A\u001b[A\u001b[A\n",
      "\n",
      "\n",
      "21it [00:18,  1.31it/s]\u001b[A\u001b[A\u001b[A\n",
      "\n",
      "\n",
      "22it [00:19,  1.22it/s]\u001b[A\u001b[A\u001b[A\n",
      "\n",
      "\n",
      "23it [00:20,  1.10it/s]\u001b[A\u001b[A\u001b[A\n",
      "\n",
      "\n",
      "24it [00:20,  1.36it/s]\u001b[A\u001b[A\u001b[A\n",
      "\n",
      "\n",
      "25it [00:21,  1.32it/s]\u001b[A\u001b[A\u001b[A\n",
      "\n",
      "\n",
      "26it [00:21,  1.64it/s]\u001b[A\u001b[A\u001b[A\n",
      "\n",
      "\n",
      "27it [00:22,  1.20it/s]\u001b[A\u001b[A\u001b[A"
     ]
    },
    {
     "name": "stdout",
     "output_type": "stream",
     "text": [
      "Remaining papers: 0\n"
     ]
    },
    {
     "name": "stderr",
     "output_type": "stream",
     "text": [
      "\n"
     ]
    }
   ],
   "source": [
    "# Generic Schema Matching, Ten Years Later\n",
    "schema_matching_survey_2 = '55c186046feee5614cd15909dfcc587e0ff662d8'\n",
    "\n",
    "references_df_2 = get_papers(schema_matching_survey_2, 'references')\n",
    "citations_df_2 = get_papers(schema_matching_survey_2, 'citations')\n",
    "\n",
    "schema_matching_df_2 = pd.concat([citations_df_2, references_df_2])\n",
    "filtered_schema_matching_2 = filter_save_selected_papers(schema_matching_df_2, \n",
    "                                'schema_matching', schema_matching_survey_2)"
   ]
  },
  {
   "cell_type": "markdown",
   "metadata": {
    "hidden": true
   },
   "source": [
    "### Union the papers"
   ]
  },
  {
   "cell_type": "code",
   "execution_count": 45,
   "metadata": {
    "ExecuteTime": {
     "end_time": "2020-03-30T17:32:58.972308Z",
     "start_time": "2020-03-30T17:32:58.963737Z"
    },
    "hidden": true
   },
   "outputs": [],
   "source": [
    "sch_match_df = pd.concat([filtered_schema_matching, filtered_schema_matching_2])\n",
    "sch_match_df = filter_save_selected_papers(sch_match_df, 'all_sch_match', '')\n"
   ]
  },
  {
   "cell_type": "markdown",
   "metadata": {
    "ExecuteTime": {
     "end_time": "2020-03-30T14:43:16.836997Z",
     "start_time": "2020-03-30T14:43:16.834344Z"
    },
    "hidden": true
   },
   "source": [
    "### Manually inspecting the papers "
   ]
  },
  {
   "cell_type": "code",
   "execution_count": 46,
   "metadata": {
    "ExecuteTime": {
     "end_time": "2020-03-30T17:33:14.379572Z",
     "start_time": "2020-03-30T17:33:14.358917Z"
    },
    "hidden": true
   },
   "outputs": [
    {
     "data": {
      "text/html": [
       "<div>\n",
       "<style scoped>\n",
       "    .dataframe tbody tr th:only-of-type {\n",
       "        vertical-align: middle;\n",
       "    }\n",
       "\n",
       "    .dataframe tbody tr th {\n",
       "        vertical-align: top;\n",
       "    }\n",
       "\n",
       "    .dataframe thead th {\n",
       "        text-align: right;\n",
       "    }\n",
       "</style>\n",
       "<table border=\"1\" class=\"dataframe\">\n",
       "  <thead>\n",
       "    <tr style=\"text-align: right;\">\n",
       "      <th></th>\n",
       "      <th>paperId</th>\n",
       "      <th>title</th>\n",
       "      <th>nrCitations</th>\n",
       "      <th>citationVelocity</th>\n",
       "    </tr>\n",
       "  </thead>\n",
       "  <tbody>\n",
       "    <tr>\n",
       "      <th>53</th>\n",
       "      <td>48b25e7b893babdf01b98771d6fd312480e22013</td>\n",
       "      <td>Synthesizing Mapping Relationships Using Table...</td>\n",
       "      <td>12</td>\n",
       "      <td>4</td>\n",
       "    </tr>\n",
       "  </tbody>\n",
       "</table>\n",
       "</div>"
      ],
      "text/plain": [
       "                                     paperId  \\\n",
       "53  48b25e7b893babdf01b98771d6fd312480e22013   \n",
       "\n",
       "                                                title  nrCitations  \\\n",
       "53  Synthesizing Mapping Relationships Using Table...           12   \n",
       "\n",
       "    citationVelocity  \n",
       "53                 4  "
      ]
     },
     "execution_count": 46,
     "metadata": {},
     "output_type": "execute_result"
    }
   ],
   "source": [
    "paper_ids = ['e6a7faf05f1284af3ecd925e3c1efd4c02f1989e',\n",
    "            'f3e0afe5e0a5761cd53a18439696c09c3ce1625b', \n",
    "            '7ff9bf4d58358fc008b059028a3e33919d12b335',\n",
    "            '1e2281603c94b690db0df65d09779e6ea5470114',\n",
    "            'af1e1bee41d004a6c1fa608a9fe2a884f48c6e5f',\n",
    "            'b4d2d42cc56e6a52ea1bc19febc2c4fcdd4f6dd8',\n",
    "            '9011405b759b492b1132aea7b6165c9d1b0513e7',\n",
    "            '3ad25d7ddaf1393198bfee58ccad6450532877c7',\n",
    "            'afdb8e8ef5c2a0e91c9a5103e3ab01ad263d0130',\n",
    "            '95e3e0cdffe7f4c19f42dff7674c6673f92ff960',\n",
    "            'aa1158b0ba07da121e4f2ab039bff2c03c929616',\n",
    "            'd7e5fb5fbc996ee646f8482d89318b4327321017']\n",
    "\n",
    "entity_matching = ['159edf7f1fdd662b386d5daa0138f882970e3544']\n",
    "schema_mapping = ['48b25e7b893babdf01b98771d6fd312480e22013']\n",
    "\n",
    "selected_sch_match = select_papers('_all_sch_match.csv', paper_ids)\n",
    "select_papers('_all_sch_match', entity_matching, '_entity_matching.csv')\n",
    "select_papers('_all_sch_match', schema_mapping, '_schema_mapping.csv')"
   ]
  },
  {
   "cell_type": "markdown",
   "metadata": {
    "heading_collapsed": true
   },
   "source": [
    "## Schema mapping"
   ]
  },
  {
   "cell_type": "code",
   "execution_count": 16,
   "metadata": {
    "ExecuteTime": {
     "end_time": "2020-04-14T09:06:53.545818Z",
     "start_time": "2020-04-14T09:06:12.155078Z"
    },
    "collapsed": true,
    "hidden": true
   },
   "outputs": [
    {
     "name": "stderr",
     "output_type": "stream",
     "text": [
      "\n",
      "0it [00:00, ?it/s]\u001b[A"
     ]
    },
    {
     "name": "stdout",
     "output_type": "stream",
     "text": [
      "Total number of papers: 30\n"
     ]
    },
    {
     "name": "stderr",
     "output_type": "stream",
     "text": [
      "\n",
      "1it [00:00,  1.07it/s]\u001b[A\n",
      "2it [00:01,  1.03it/s]\u001b[A\n",
      "3it [00:03,  1.02s/it]\u001b[A\n",
      "4it [00:04,  1.00it/s]\u001b[A\n",
      "5it [00:04,  1.08it/s]\u001b[A\n",
      "6it [00:07,  1.32s/it]\u001b[A\n",
      "7it [00:08,  1.46s/it]\u001b[A\n",
      "8it [00:11,  1.78s/it]\u001b[A\n",
      "9it [00:12,  1.62s/it]\u001b[A\n",
      "10it [00:14,  1.55s/it]\u001b[A\n",
      "11it [00:15,  1.42s/it]\u001b[A\n",
      "12it [00:16,  1.29s/it]\u001b[A\n",
      "13it [00:17,  1.18s/it]\u001b[A\n",
      "14it [00:17,  1.11s/it]\u001b[A\n",
      "15it [00:18,  1.06s/it]\u001b[A\n",
      "16it [00:19,  1.22it/s]\u001b[A\n",
      "17it [00:20,  1.18it/s]\u001b[A\n",
      "18it [00:21,  1.02it/s]\u001b[A\n",
      "19it [00:22,  1.09it/s]\u001b[A\n",
      "20it [00:22,  1.26it/s]\u001b[A\n",
      "21it [00:23,  1.24it/s]\u001b[A\n",
      "22it [00:26,  1.41s/it]\u001b[A\n",
      "23it [00:27,  1.27s/it]\u001b[A\n",
      "24it [00:27,  1.02it/s]\u001b[A\n",
      "25it [00:30,  1.56s/it]\u001b[A\n",
      "26it [00:33,  2.13s/it]\u001b[A\n",
      "27it [00:34,  1.77s/it]\u001b[A\n",
      "28it [00:35,  1.58s/it]\u001b[A\n",
      "29it [00:36,  1.34s/it]\u001b[A\n",
      "30it [00:37,  1.25s/it]\u001b[A\n"
     ]
    },
    {
     "name": "stdout",
     "output_type": "stream",
     "text": [
      "Remaining papers: 0\n"
     ]
    },
    {
     "name": "stderr",
     "output_type": "stream",
     "text": [
      "\n",
      "0it [00:00, ?it/s]\u001b[A"
     ]
    },
    {
     "name": "stdout",
     "output_type": "stream",
     "text": [
      "Total number of papers: 4\n"
     ]
    },
    {
     "name": "stderr",
     "output_type": "stream",
     "text": [
      "\n",
      "1it [00:00,  1.23it/s]\u001b[A\n",
      "2it [00:01,  1.42it/s]\u001b[A\n",
      "3it [00:01,  1.60it/s]\u001b[A\n",
      "4it [00:02,  1.72it/s]\u001b[A"
     ]
    },
    {
     "name": "stdout",
     "output_type": "stream",
     "text": [
      "Remaining papers: 0\n"
     ]
    },
    {
     "name": "stderr",
     "output_type": "stream",
     "text": [
      "\n"
     ]
    }
   ],
   "source": [
    "# On Evaluating Schema Matching and Mapping\n",
    "schema_mapping_survey = 'e5b50377a9e4864d9e262a428e018c01ebe67a8d'\n",
    "\n",
    "ref_smap_df = get_papers(schema_mapping_survey, 'references')\n",
    "cit_smap_df = get_papers(schema_mapping_survey, 'citations')\n",
    "\n",
    "if ref_smap_df is None:\n",
    "    schema_map_df = cit_smap_df\n",
    "else:\n",
    "    schema_map_df = pd.concat([cit_smap_df, ref_smap_df])\n",
    "    \n",
    "filtered_schema_mapping = filter_save_selected_papers(schema_map_df, 'schema_mapping', schema_mapping_survey)"
   ]
  },
  {
   "cell_type": "code",
   "execution_count": 15,
   "metadata": {
    "ExecuteTime": {
     "end_time": "2020-04-14T09:05:07.301709Z",
     "start_time": "2020-04-14T09:03:36.060794Z"
    },
    "collapsed": true,
    "hidden": true
   },
   "outputs": [
    {
     "name": "stderr",
     "output_type": "stream",
     "text": [
      "\n",
      "0it [00:00, ?it/s]\u001b[A"
     ]
    },
    {
     "name": "stdout",
     "output_type": "stream",
     "text": [
      "Total number of papers: 91\n"
     ]
    },
    {
     "name": "stderr",
     "output_type": "stream",
     "text": [
      "\n",
      "1it [00:00,  1.17it/s]\u001b[A\n",
      "2it [00:01,  1.16it/s]\u001b[A\n",
      "3it [00:03,  1.19s/it]\u001b[A\n",
      "4it [00:05,  1.42s/it]\u001b[A\n",
      "5it [00:06,  1.18s/it]\u001b[A\n",
      "6it [00:07,  1.07s/it]\u001b[A\n",
      "7it [00:08,  1.05s/it]\u001b[A\n",
      "8it [00:09,  1.04s/it]\u001b[A\n",
      "9it [00:09,  1.03it/s]\u001b[A\n",
      "10it [00:10,  1.20it/s]\u001b[A\n",
      "11it [00:11,  1.28it/s]\u001b[A\n",
      "12it [00:12,  1.20it/s]\u001b[A\n",
      "13it [00:13,  1.14it/s]\u001b[A\n",
      "14it [00:13,  1.40it/s]\u001b[A\n",
      "15it [00:14,  1.40it/s]\u001b[A\n",
      "16it [00:14,  1.68it/s]\u001b[A\n",
      "17it [00:15,  1.39it/s]\u001b[A\n",
      "18it [00:15,  1.57it/s]\u001b[A\n",
      "19it [00:16,  1.47it/s]\u001b[A\n",
      "20it [00:16,  1.73it/s]\u001b[A\n",
      "21it [00:18,  1.35it/s]\u001b[A\n",
      "22it [00:19,  1.24it/s]\u001b[A\n",
      "23it [00:19,  1.23it/s]\u001b[A\n",
      "24it [00:21,  1.04it/s]\u001b[A\n",
      "25it [00:21,  1.23it/s]\u001b[A\n",
      "26it [00:22,  1.16it/s]\u001b[A\n",
      "27it [00:23,  1.20it/s]\u001b[A\n",
      "28it [00:24,  1.13it/s]\u001b[A\n",
      "29it [00:25,  1.19it/s]\u001b[A\n",
      "30it [00:25,  1.31it/s]\u001b[A\n",
      "31it [00:26,  1.22it/s]\u001b[A\n",
      "32it [00:28,  1.01it/s]\u001b[A\n",
      "33it [00:28,  1.17it/s]\u001b[A\n",
      "34it [00:29,  1.00it/s]\u001b[A\n",
      "35it [00:30,  1.17it/s]\u001b[A\n",
      "36it [00:32,  1.32s/it]\u001b[A\n",
      "37it [00:33,  1.23s/it]\u001b[A\n",
      "38it [00:35,  1.21s/it]\u001b[A\n",
      "39it [00:36,  1.17s/it]\u001b[A\n",
      "40it [00:37,  1.11s/it]\u001b[A\n",
      "41it [00:38,  1.09s/it]\u001b[A\n",
      "42it [00:39,  1.26s/it]\u001b[A\n",
      "43it [00:40,  1.18s/it]\u001b[A\n",
      "44it [00:41,  1.09s/it]\u001b[A\n",
      "45it [00:42,  1.03s/it]\u001b[A\n",
      "46it [00:43,  1.01s/it]\u001b[A\n",
      "47it [00:44,  1.05it/s]\u001b[A\n",
      "48it [00:45,  1.01it/s]\u001b[A\n",
      "49it [00:46,  1.12it/s]\u001b[A\n",
      "50it [00:46,  1.15it/s]\u001b[A\n",
      "51it [00:47,  1.17it/s]\u001b[A\n",
      "52it [00:48,  1.20it/s]\u001b[A\n",
      "53it [00:49,  1.22it/s]\u001b[A\n",
      "54it [00:50,  1.16it/s]\u001b[A\n",
      "55it [00:51,  1.10it/s]\u001b[A\n",
      "56it [00:52,  1.09s/it]\u001b[A\n",
      "57it [00:53,  1.01s/it]\u001b[A\n",
      "58it [00:54,  1.06it/s]\u001b[A\n",
      "59it [00:55,  1.13it/s]\u001b[A\n",
      "60it [00:55,  1.13it/s]\u001b[A\n",
      "61it [00:56,  1.29it/s]\u001b[A\n",
      "62it [00:56,  1.50it/s]\u001b[A\n",
      "63it [00:57,  1.43it/s]\u001b[A\n",
      "64it [00:58,  1.39it/s]\u001b[A\n",
      "65it [00:59,  1.37it/s]\u001b[A\n",
      "66it [01:00,  1.16it/s]\u001b[A\n",
      "67it [01:01,  1.13it/s]\u001b[A\n",
      "68it [01:02,  1.10it/s]\u001b[A\n",
      "69it [01:03,  1.09it/s]\u001b[A\n",
      "70it [01:04,  1.08it/s]\u001b[A\n",
      "71it [01:04,  1.38it/s]\u001b[A\n",
      "72it [01:05,  1.35it/s]\u001b[A\n",
      "73it [01:05,  1.33it/s]\u001b[A\n",
      "74it [01:07,  1.14it/s]\u001b[A\n",
      "75it [01:08,  1.10it/s]\u001b[A\n",
      "76it [01:08,  1.14it/s]\u001b[A\n",
      "77it [01:13,  1.94s/it]\u001b[A\n",
      "78it [01:14,  1.60s/it]\u001b[A\n",
      "79it [01:14,  1.37s/it]\u001b[A\n",
      "80it [01:15,  1.27s/it]\u001b[A\n",
      "81it [01:18,  1.68s/it]\u001b[A\n",
      "82it [01:19,  1.39s/it]\u001b[A\n",
      "83it [01:20,  1.21s/it]\u001b[A\n",
      "84it [01:21,  1.17s/it]\u001b[A\n",
      "85it [01:21,  1.02s/it]\u001b[A\n",
      "86it [01:23,  1.16s/it]\u001b[A\n",
      "87it [01:24,  1.10s/it]\u001b[A\n",
      "88it [01:25,  1.00s/it]\u001b[A\n",
      "89it [01:26,  1.05s/it]\u001b[A\n",
      "90it [01:27,  1.07s/it]\u001b[A\n",
      "91it [01:28,  1.03it/s]\u001b[A"
     ]
    },
    {
     "name": "stdout",
     "output_type": "stream",
     "text": [
      "Remaining papers: 0\n"
     ]
    },
    {
     "name": "stderr",
     "output_type": "stream",
     "text": [
      "\n"
     ]
    }
   ],
   "source": [
    "# Schema Mapping as Query Discovery\n",
    "schema_mapping_survey_2 = 'a0790bf8d16e0d5e0374566881dfdfb2f20faa88'\n",
    "\n",
    "ref_smap_df_2 = get_papers(schema_mapping_survey_2, 'references')\n",
    "cit_smap_df_2 = get_papers(schema_mapping_survey_2, 'citations')\n",
    "\n",
    "if ref_smap_df_2 is None:\n",
    "    schema_map_df_2 = cit_smap_df_2\n",
    "else:\n",
    "    schema_map_df_2 = pd.concat([cit_smap_df_2, ref_smap_df_2])\n",
    "    \n",
    "filtered_schema_mapping_2 = filter_save_selected_papers(schema_map_df_2, \n",
    "                                'schema_mapping', schema_mapping_survey_2)"
   ]
  },
  {
   "cell_type": "code",
   "execution_count": 10,
   "metadata": {
    "ExecuteTime": {
     "end_time": "2020-04-14T08:54:08.701139Z",
     "start_time": "2020-04-14T08:45:17.608963Z"
    },
    "collapsed": true,
    "hidden": true
   },
   "outputs": [
    {
     "name": "stderr",
     "output_type": "stream",
     "text": [
      "\r",
      "0it [00:00, ?it/s]"
     ]
    },
    {
     "name": "stdout",
     "output_type": "stream",
     "text": [
      "Total number of papers: 24\n"
     ]
    },
    {
     "name": "stderr",
     "output_type": "stream",
     "text": [
      "24it [00:30,  1.27s/it]\n"
     ]
    },
    {
     "name": "stdout",
     "output_type": "stream",
     "text": [
      "Remaining papers: 0\n"
     ]
    },
    {
     "name": "stderr",
     "output_type": "stream",
     "text": [
      "\r",
      "0it [00:00, ?it/s]"
     ]
    },
    {
     "name": "stdout",
     "output_type": "stream",
     "text": [
      "Total number of papers: 163\n"
     ]
    },
    {
     "name": "stderr",
     "output_type": "stream",
     "text": [
      "157it [02:03,  1.21it/s]"
     ]
    },
    {
     "name": "stdout",
     "output_type": "stream",
     "text": [
      "Remaining papers: 6\n",
      "Sleep 90s\n"
     ]
    },
    {
     "name": "stderr",
     "output_type": "stream",
     "text": [
      "\n",
      "0it [00:00, ?it/s]\u001b[A"
     ]
    },
    {
     "name": "stdout",
     "output_type": "stream",
     "text": [
      "Total number of papers: 6\n"
     ]
    },
    {
     "name": "stderr",
     "output_type": "stream",
     "text": [
      "0it [00:00, ?it/s]\n"
     ]
    },
    {
     "name": "stdout",
     "output_type": "stream",
     "text": [
      "Remaining papers: 6\n",
      "Sleep 90s\n"
     ]
    },
    {
     "name": "stderr",
     "output_type": "stream",
     "text": [
      "\n",
      "0it [00:00, ?it/s]\u001b[A"
     ]
    },
    {
     "name": "stdout",
     "output_type": "stream",
     "text": [
      "Total number of papers: 6\n"
     ]
    },
    {
     "name": "stderr",
     "output_type": "stream",
     "text": [
      "0it [00:00, ?it/s]\n"
     ]
    },
    {
     "name": "stdout",
     "output_type": "stream",
     "text": [
      "Remaining papers: 6\n",
      "Sleep 90s\n"
     ]
    },
    {
     "name": "stderr",
     "output_type": "stream",
     "text": [
      "\n",
      "0it [00:00, ?it/s]\u001b[A"
     ]
    },
    {
     "name": "stdout",
     "output_type": "stream",
     "text": [
      "Total number of papers: 6\n"
     ]
    },
    {
     "name": "stderr",
     "output_type": "stream",
     "text": [
      "0it [00:00, ?it/s]\n"
     ]
    },
    {
     "name": "stdout",
     "output_type": "stream",
     "text": [
      "Remaining papers: 6\n",
      "Sleep 90s\n"
     ]
    },
    {
     "name": "stderr",
     "output_type": "stream",
     "text": [
      "\n",
      "0it [00:00, ?it/s]\u001b[A"
     ]
    },
    {
     "name": "stdout",
     "output_type": "stream",
     "text": [
      "Total number of papers: 6\n"
     ]
    },
    {
     "name": "stderr",
     "output_type": "stream",
     "text": [
      "\n",
      "1it [00:01,  1.11s/it]\u001b[A\n",
      "2it [00:02,  1.07s/it]\u001b[A\n",
      "3it [00:03,  1.04s/it]\u001b[A\n",
      "4it [00:04,  1.02s/it]\u001b[A\n",
      "5it [00:05,  1.11s/it]\u001b[A\n",
      "6it [00:06,  1.06s/it]\u001b[A"
     ]
    },
    {
     "name": "stdout",
     "output_type": "stream",
     "text": [
      "Remaining papers: 0\n"
     ]
    },
    {
     "name": "stderr",
     "output_type": "stream",
     "text": [
      "\n"
     ]
    }
   ],
   "source": [
    "# Data integration: a theoretical perspective\n",
    "schema_mapping_survey_3 = '014110225603dd5e0f848a43878afa240034bb19'\n",
    "\n",
    "ref_smap_df_3 = get_papers(schema_mapping_survey_3, 'references')\n",
    "cit_smap_df_3 = get_papers(schema_mapping_survey_3, 'citations')\n",
    "\n",
    "if ref_smap_df_3 is None:\n",
    "    schema_map_df_3 = cit_smap_df_3\n",
    "else:\n",
    "    schema_map_df_3 = pd.concat([cit_smap_df_3, ref_smap_df_3])\n",
    "    \n",
    "filtered_schema_mapping_3 = filter_save_selected_papers(schema_map_df_3, \n",
    "                                'schema_mapping', schema_mapping_survey_3)"
   ]
  },
  {
   "cell_type": "code",
   "execution_count": 14,
   "metadata": {
    "ExecuteTime": {
     "end_time": "2020-04-14T09:02:35.828497Z",
     "start_time": "2020-04-14T09:02:18.503039Z"
    },
    "collapsed": true,
    "hidden": true
   },
   "outputs": [
    {
     "name": "stderr",
     "output_type": "stream",
     "text": [
      "\n",
      "0it [00:00, ?it/s]\u001b[A"
     ]
    },
    {
     "name": "stdout",
     "output_type": "stream",
     "text": [
      "Total number of papers: 12\n"
     ]
    },
    {
     "name": "stderr",
     "output_type": "stream",
     "text": [
      "\n",
      "1it [00:00,  1.04it/s]\u001b[A\n",
      "2it [00:02,  1.08s/it]\u001b[A\n",
      "3it [00:03,  1.01s/it]\u001b[A\n",
      "4it [00:05,  1.43s/it]\u001b[A\n",
      "5it [00:06,  1.24s/it]\u001b[A\n",
      "6it [00:07,  1.11s/it]\u001b[A\n",
      "7it [00:07,  1.10it/s]\u001b[A\n",
      "8it [00:08,  1.07it/s]\u001b[A\n",
      "9it [00:09,  1.11it/s]\u001b[A\n",
      "10it [00:10,  1.13it/s]\u001b[A\n",
      "11it [00:11,  1.04it/s]\u001b[A\n",
      "12it [00:12,  1.04s/it]\u001b[A\n"
     ]
    },
    {
     "name": "stdout",
     "output_type": "stream",
     "text": [
      "Remaining papers: 0\n"
     ]
    },
    {
     "name": "stderr",
     "output_type": "stream",
     "text": [
      "\n",
      "0it [00:00, ?it/s]\u001b[A"
     ]
    },
    {
     "name": "stdout",
     "output_type": "stream",
     "text": [
      "Total number of papers: 5\n"
     ]
    },
    {
     "name": "stderr",
     "output_type": "stream",
     "text": [
      "\n",
      "1it [00:00,  1.61it/s]\u001b[A\n",
      "2it [00:00,  1.89it/s]\u001b[A\n",
      "3it [00:01,  1.51it/s]\u001b[A\n",
      "4it [00:02,  1.39it/s]\u001b[A\n",
      "5it [00:03,  1.39it/s]\u001b[A"
     ]
    },
    {
     "name": "stdout",
     "output_type": "stream",
     "text": [
      "Remaining papers: 0\n"
     ]
    },
    {
     "name": "stderr",
     "output_type": "stream",
     "text": [
      "\n"
     ]
    }
   ],
   "source": [
    "# Schema mappings and data examples\n",
    "schema_mapping_survey_4 = 'a30f5a745f6b691927114cdaa48b6965f11058a2'\n",
    "\n",
    "ref_smap_df_4 = get_papers(schema_mapping_survey_4, 'references')\n",
    "cit_smap_df_4 = get_papers(schema_mapping_survey_4, 'citations')\n",
    "\n",
    "if ref_smap_df_4 is None:\n",
    "    schema_map_df_4 = cit_smap_df_4\n",
    "else:\n",
    "    schema_map_df_4 = pd.concat([cit_smap_df_4, ref_smap_df_4])\n",
    "    \n",
    "filtered_schema_mapping_4 = filter_save_selected_papers(schema_map_df_4, \n",
    "                                'schema_mapping', schema_mapping_survey_4)"
   ]
  },
  {
   "cell_type": "markdown",
   "metadata": {
    "hidden": true
   },
   "source": [
    "### Union the paper"
   ]
  },
  {
   "cell_type": "code",
   "execution_count": 17,
   "metadata": {
    "ExecuteTime": {
     "end_time": "2020-04-14T09:08:00.959137Z",
     "start_time": "2020-04-14T09:08:00.906965Z"
    },
    "collapsed": true,
    "hidden": true
   },
   "outputs": [
    {
     "data": {
      "text/html": [
       "<div>\n",
       "<style scoped>\n",
       "    .dataframe tbody tr th:only-of-type {\n",
       "        vertical-align: middle;\n",
       "    }\n",
       "\n",
       "    .dataframe tbody tr th {\n",
       "        vertical-align: top;\n",
       "    }\n",
       "\n",
       "    .dataframe thead th {\n",
       "        text-align: right;\n",
       "    }\n",
       "</style>\n",
       "<table border=\"1\" class=\"dataframe\">\n",
       "  <thead>\n",
       "    <tr style=\"text-align: right;\">\n",
       "      <th></th>\n",
       "      <th>paperId</th>\n",
       "      <th>title</th>\n",
       "      <th>nrCitations</th>\n",
       "      <th>citationVelocity</th>\n",
       "    </tr>\n",
       "  </thead>\n",
       "  <tbody>\n",
       "    <tr>\n",
       "      <th>148</th>\n",
       "      <td>71219c274777ea42e79180d05a9a377690207e07</td>\n",
       "      <td>Ontology Matching: State of the Art and Future...</td>\n",
       "      <td>796</td>\n",
       "      <td>86</td>\n",
       "    </tr>\n",
       "    <tr>\n",
       "      <th>3</th>\n",
       "      <td>014110225603dd5e0f848a43878afa240034bb19</td>\n",
       "      <td>Data integration: a theoretical perspective</td>\n",
       "      <td>1934</td>\n",
       "      <td>86</td>\n",
       "    </tr>\n",
       "    <tr>\n",
       "      <th>76</th>\n",
       "      <td>580221d63ae75bdc7d68829916cf608e44a56b27</td>\n",
       "      <td>A survey of approaches to automatic schema mat...</td>\n",
       "      <td>2632</td>\n",
       "      <td>65</td>\n",
       "    </tr>\n",
       "    <tr>\n",
       "      <th>41</th>\n",
       "      <td>aa1158b0ba07da121e4f2ab039bff2c03c929616</td>\n",
       "      <td>Similarity flooding: a versatile graph matchin...</td>\n",
       "      <td>953</td>\n",
       "      <td>40</td>\n",
       "    </tr>\n",
       "    <tr>\n",
       "      <th>55</th>\n",
       "      <td>1126ceee34acd741396c493c84d8b6072a18bfd7</td>\n",
       "      <td>Potter's Wheel: An Interactive Data Cleaning S...</td>\n",
       "      <td>444</td>\n",
       "      <td>34</td>\n",
       "    </tr>\n",
       "    <tr>\n",
       "      <th>11</th>\n",
       "      <td>a7209ca952aa3055e218cdb469d7ce01404d7462</td>\n",
       "      <td>Answering queries using views: A survey</td>\n",
       "      <td>1188</td>\n",
       "      <td>34</td>\n",
       "    </tr>\n",
       "    <tr>\n",
       "      <th>110</th>\n",
       "      <td>6a063509ea79ab01571e444b9e4a3cea38239fdd</td>\n",
       "      <td>Data integration: the teenage years</td>\n",
       "      <td>458</td>\n",
       "      <td>23</td>\n",
       "    </tr>\n",
       "    <tr>\n",
       "      <th>89</th>\n",
       "      <td>55c186046feee5614cd15909dfcc587e0ff662d8</td>\n",
       "      <td>Generic Schema Matching, Ten Years Later</td>\n",
       "      <td>177</td>\n",
       "      <td>20</td>\n",
       "    </tr>\n",
       "    <tr>\n",
       "      <th>35</th>\n",
       "      <td>7ff9bf4d58358fc008b059028a3e33919d12b335</td>\n",
       "      <td>Generic Schema Matching with Cupid</td>\n",
       "      <td>1114</td>\n",
       "      <td>19</td>\n",
       "    </tr>\n",
       "    <tr>\n",
       "      <th>79</th>\n",
       "      <td>af1e1bee41d004a6c1fa608a9fe2a884f48c6e5f</td>\n",
       "      <td>Reducing Uncertainty of Schema Matching via Cr...</td>\n",
       "      <td>78</td>\n",
       "      <td>14</td>\n",
       "    </tr>\n",
       "    <tr>\n",
       "      <th>80</th>\n",
       "      <td>9011405b759b492b1132aea7b6165c9d1b0513e7</td>\n",
       "      <td>Reconciling schemas of disparate data sources:...</td>\n",
       "      <td>658</td>\n",
       "      <td>12</td>\n",
       "    </tr>\n",
       "    <tr>\n",
       "      <th>99</th>\n",
       "      <td>e5912bf64fea4d5e5347d6bb3e17d1779c3a6a0e</td>\n",
       "      <td>Data integration with uncertainty</td>\n",
       "      <td>265</td>\n",
       "      <td>11</td>\n",
       "    </tr>\n",
       "    <tr>\n",
       "      <th>36</th>\n",
       "      <td>0eb31f4a0981882a7f889ba373dab907e4631e77</td>\n",
       "      <td>Sample-driven schema mapping</td>\n",
       "      <td>66</td>\n",
       "      <td>10</td>\n",
       "    </tr>\n",
       "    <tr>\n",
       "      <th>157</th>\n",
       "      <td>93bf18eb49a84443386f06a02da3be1ca07186f7</td>\n",
       "      <td>Automating the database schema evolution process</td>\n",
       "      <td>63</td>\n",
       "      <td>10</td>\n",
       "    </tr>\n",
       "    <tr>\n",
       "      <th>10</th>\n",
       "      <td>0bc3e0fa8da8e410e0b0700be04b9b59770decee</td>\n",
       "      <td>Designing and refining schema mappings via dat...</td>\n",
       "      <td>65</td>\n",
       "      <td>9</td>\n",
       "    </tr>\n",
       "    <tr>\n",
       "      <th>2</th>\n",
       "      <td>159af2a6200bb67d623499b0f1a5c684543c9a1e</td>\n",
       "      <td>Applying Model Management to Classical Meta Da...</td>\n",
       "      <td>432</td>\n",
       "      <td>9</td>\n",
       "    </tr>\n",
       "    <tr>\n",
       "      <th>23</th>\n",
       "      <td>4d68c4dd282b98622c5b33a7bdc93dc61744553c</td>\n",
       "      <td>Data exchange: getting to the core</td>\n",
       "      <td>272</td>\n",
       "      <td>9</td>\n",
       "    </tr>\n",
       "    <tr>\n",
       "      <th>3</th>\n",
       "      <td>a4f967c20e45f466bd447230a89687384805a97b</td>\n",
       "      <td>Model management 2.0: manipulating richer mapp...</td>\n",
       "      <td>260</td>\n",
       "      <td>9</td>\n",
       "    </tr>\n",
       "    <tr>\n",
       "      <th>4</th>\n",
       "      <td>2185d4535d9b3f82477897d2782a15705a53ea22</td>\n",
       "      <td>Querying Heterogeneous Information Sources Usi...</td>\n",
       "      <td>1013</td>\n",
       "      <td>9</td>\n",
       "    </tr>\n",
       "    <tr>\n",
       "      <th>94</th>\n",
       "      <td>66f48bc391b0fd135c8b4915618aebf663d56316</td>\n",
       "      <td>Query reverse engineering</td>\n",
       "      <td>38</td>\n",
       "      <td>8</td>\n",
       "    </tr>\n",
       "    <tr>\n",
       "      <th>126</th>\n",
       "      <td>ca739ce30c1b4d7a034218e3e8123a23d0b7b94f</td>\n",
       "      <td>Deco: declarative crowdsourcing</td>\n",
       "      <td>80</td>\n",
       "      <td>8</td>\n",
       "    </tr>\n",
       "    <tr>\n",
       "      <th>130</th>\n",
       "      <td>3100410dac4b43d7d5016a579560c3877e3e63ee</td>\n",
       "      <td>The iBench Integration Metadata Generator</td>\n",
       "      <td>31</td>\n",
       "      <td>8</td>\n",
       "    </tr>\n",
       "    <tr>\n",
       "      <th>142</th>\n",
       "      <td>dbce43dfe36b36203658cce25c083329bdf31853</td>\n",
       "      <td>MASTRO STUDIO: Managing Ontology-Based Data Ac...</td>\n",
       "      <td>48</td>\n",
       "      <td>7</td>\n",
       "    </tr>\n",
       "    <tr>\n",
       "      <th>158</th>\n",
       "      <td>6cdeb0dcc4e5e939526a9a30f9fa114f03c58683</td>\n",
       "      <td>Datalog and emerging applications: an interact...</td>\n",
       "      <td>83</td>\n",
       "      <td>7</td>\n",
       "    </tr>\n",
       "    <tr>\n",
       "      <th>137</th>\n",
       "      <td>3ad25d7ddaf1393198bfee58ccad6450532877c7</td>\n",
       "      <td>Corpus-based schema matching</td>\n",
       "      <td>288</td>\n",
       "      <td>7</td>\n",
       "    </tr>\n",
       "    <tr>\n",
       "      <th>81</th>\n",
       "      <td>a252c711233b24c17f07c575b13a2c135fa7c0c8</td>\n",
       "      <td>Query-Oriented Data Cleaning with Oracles</td>\n",
       "      <td>29</td>\n",
       "      <td>7</td>\n",
       "    </tr>\n",
       "    <tr>\n",
       "      <th>29</th>\n",
       "      <td>9a059df30f9919578adb3ac466a734685401e68b</td>\n",
       "      <td>Schema mappings, data exchange, and metadata m...</td>\n",
       "      <td>217</td>\n",
       "      <td>7</td>\n",
       "    </tr>\n",
       "    <tr>\n",
       "      <th>73</th>\n",
       "      <td>afdb8e8ef5c2a0e91c9a5103e3ab01ad263d0130</td>\n",
       "      <td>On schema matching with opaque column names an...</td>\n",
       "      <td>205</td>\n",
       "      <td>7</td>\n",
       "    </tr>\n",
       "    <tr>\n",
       "      <th>44</th>\n",
       "      <td>2ed51879febb9c6050bdc11e3fd08a10ff2480d6</td>\n",
       "      <td>Mining database structure; or, how to build a ...</td>\n",
       "      <td>141</td>\n",
       "      <td>6</td>\n",
       "    </tr>\n",
       "    <tr>\n",
       "      <th>21</th>\n",
       "      <td>b6c60161f420481226453733f5c9293c3a8ebf18</td>\n",
       "      <td>Towards heterogeneous multimedia information s...</td>\n",
       "      <td>276</td>\n",
       "      <td>6</td>\n",
       "    </tr>\n",
       "    <tr>\n",
       "      <th>5</th>\n",
       "      <td>0ba3e29dac0857100935b6eb22bce9cee4afcf17</td>\n",
       "      <td>Integration of heterogeneous databases without...</td>\n",
       "      <td>329</td>\n",
       "      <td>5</td>\n",
       "    </tr>\n",
       "    <tr>\n",
       "      <th>1</th>\n",
       "      <td>d3b35d849389be508572b6c2d798e9cd4d0b2d76</td>\n",
       "      <td>Query caching and optimization in distributed ...</td>\n",
       "      <td>295</td>\n",
       "      <td>4</td>\n",
       "    </tr>\n",
       "    <tr>\n",
       "      <th>12</th>\n",
       "      <td>4c9da998bc18682fd7d20494ba9f30fb11464bfa</td>\n",
       "      <td>Document Spanners for Extracting Incomplete In...</td>\n",
       "      <td>16</td>\n",
       "      <td>4</td>\n",
       "    </tr>\n",
       "  </tbody>\n",
       "</table>\n",
       "</div>"
      ],
      "text/plain": [
       "                                      paperId  \\\n",
       "148  71219c274777ea42e79180d05a9a377690207e07   \n",
       "3    014110225603dd5e0f848a43878afa240034bb19   \n",
       "76   580221d63ae75bdc7d68829916cf608e44a56b27   \n",
       "41   aa1158b0ba07da121e4f2ab039bff2c03c929616   \n",
       "55   1126ceee34acd741396c493c84d8b6072a18bfd7   \n",
       "11   a7209ca952aa3055e218cdb469d7ce01404d7462   \n",
       "110  6a063509ea79ab01571e444b9e4a3cea38239fdd   \n",
       "89   55c186046feee5614cd15909dfcc587e0ff662d8   \n",
       "35   7ff9bf4d58358fc008b059028a3e33919d12b335   \n",
       "79   af1e1bee41d004a6c1fa608a9fe2a884f48c6e5f   \n",
       "80   9011405b759b492b1132aea7b6165c9d1b0513e7   \n",
       "99   e5912bf64fea4d5e5347d6bb3e17d1779c3a6a0e   \n",
       "36   0eb31f4a0981882a7f889ba373dab907e4631e77   \n",
       "157  93bf18eb49a84443386f06a02da3be1ca07186f7   \n",
       "10   0bc3e0fa8da8e410e0b0700be04b9b59770decee   \n",
       "2    159af2a6200bb67d623499b0f1a5c684543c9a1e   \n",
       "23   4d68c4dd282b98622c5b33a7bdc93dc61744553c   \n",
       "3    a4f967c20e45f466bd447230a89687384805a97b   \n",
       "4    2185d4535d9b3f82477897d2782a15705a53ea22   \n",
       "94   66f48bc391b0fd135c8b4915618aebf663d56316   \n",
       "126  ca739ce30c1b4d7a034218e3e8123a23d0b7b94f   \n",
       "130  3100410dac4b43d7d5016a579560c3877e3e63ee   \n",
       "142  dbce43dfe36b36203658cce25c083329bdf31853   \n",
       "158  6cdeb0dcc4e5e939526a9a30f9fa114f03c58683   \n",
       "137  3ad25d7ddaf1393198bfee58ccad6450532877c7   \n",
       "81   a252c711233b24c17f07c575b13a2c135fa7c0c8   \n",
       "29   9a059df30f9919578adb3ac466a734685401e68b   \n",
       "73   afdb8e8ef5c2a0e91c9a5103e3ab01ad263d0130   \n",
       "44   2ed51879febb9c6050bdc11e3fd08a10ff2480d6   \n",
       "21   b6c60161f420481226453733f5c9293c3a8ebf18   \n",
       "5    0ba3e29dac0857100935b6eb22bce9cee4afcf17   \n",
       "1    d3b35d849389be508572b6c2d798e9cd4d0b2d76   \n",
       "12   4c9da998bc18682fd7d20494ba9f30fb11464bfa   \n",
       "\n",
       "                                                 title  nrCitations  \\\n",
       "148  Ontology Matching: State of the Art and Future...          796   \n",
       "3          Data integration: a theoretical perspective         1934   \n",
       "76   A survey of approaches to automatic schema mat...         2632   \n",
       "41   Similarity flooding: a versatile graph matchin...          953   \n",
       "55   Potter's Wheel: An Interactive Data Cleaning S...          444   \n",
       "11             Answering queries using views: A survey         1188   \n",
       "110                Data integration: the teenage years          458   \n",
       "89            Generic Schema Matching, Ten Years Later          177   \n",
       "35                  Generic Schema Matching with Cupid         1114   \n",
       "79   Reducing Uncertainty of Schema Matching via Cr...           78   \n",
       "80   Reconciling schemas of disparate data sources:...          658   \n",
       "99                   Data integration with uncertainty          265   \n",
       "36                        Sample-driven schema mapping           66   \n",
       "157   Automating the database schema evolution process           63   \n",
       "10   Designing and refining schema mappings via dat...           65   \n",
       "2    Applying Model Management to Classical Meta Da...          432   \n",
       "23                  Data exchange: getting to the core          272   \n",
       "3    Model management 2.0: manipulating richer mapp...          260   \n",
       "4    Querying Heterogeneous Information Sources Usi...         1013   \n",
       "94                           Query reverse engineering           38   \n",
       "126                    Deco: declarative crowdsourcing           80   \n",
       "130          The iBench Integration Metadata Generator           31   \n",
       "142  MASTRO STUDIO: Managing Ontology-Based Data Ac...           48   \n",
       "158  Datalog and emerging applications: an interact...           83   \n",
       "137                       Corpus-based schema matching          288   \n",
       "81           Query-Oriented Data Cleaning with Oracles           29   \n",
       "29   Schema mappings, data exchange, and metadata m...          217   \n",
       "73   On schema matching with opaque column names an...          205   \n",
       "44   Mining database structure; or, how to build a ...          141   \n",
       "21   Towards heterogeneous multimedia information s...          276   \n",
       "5    Integration of heterogeneous databases without...          329   \n",
       "1    Query caching and optimization in distributed ...          295   \n",
       "12   Document Spanners for Extracting Incomplete In...           16   \n",
       "\n",
       "     citationVelocity  \n",
       "148                86  \n",
       "3                  86  \n",
       "76                 65  \n",
       "41                 40  \n",
       "55                 34  \n",
       "11                 34  \n",
       "110                23  \n",
       "89                 20  \n",
       "35                 19  \n",
       "79                 14  \n",
       "80                 12  \n",
       "99                 11  \n",
       "36                 10  \n",
       "157                10  \n",
       "10                  9  \n",
       "2                   9  \n",
       "23                  9  \n",
       "3                   9  \n",
       "4                   9  \n",
       "94                  8  \n",
       "126                 8  \n",
       "130                 8  \n",
       "142                 7  \n",
       "158                 7  \n",
       "137                 7  \n",
       "81                  7  \n",
       "29                  7  \n",
       "73                  7  \n",
       "44                  6  \n",
       "21                  6  \n",
       "5                   5  \n",
       "1                   4  \n",
       "12                  4  "
      ]
     },
     "metadata": {},
     "output_type": "display_data"
    }
   ],
   "source": [
    "sch_map_df = pd.concat([filtered_schema_mapping_2, filtered_schema_mapping_3, filtered_schema_mapping_4])\n",
    "sch_map_df = filter_save_selected_papers(sch_map_df, 'all_sch_map', '')\n",
    "display(sch_map_df)\n"
   ]
  },
  {
   "cell_type": "markdown",
   "metadata": {
    "hidden": true
   },
   "source": [
    "### Manually inspecting the papers"
   ]
  },
  {
   "cell_type": "code",
   "execution_count": 18,
   "metadata": {
    "ExecuteTime": {
     "end_time": "2020-04-14T09:08:08.473493Z",
     "start_time": "2020-04-14T09:08:08.459156Z"
    },
    "hidden": true
   },
   "outputs": [],
   "source": [
    "paper_ids = ['0eb31f4a0981882a7f889ba373dab907e4631e77',\n",
    "            '0bc3e0fa8da8e410e0b0700be04b9b59770decee',\n",
    "            '9a059df30f9919578adb3ac466a734685401e68b',\n",
    "            'af1e1bee41d004a6c1fa608a9fe2a884f48c6e5f']\n",
    "\n",
    "selected_sch_map = select_papers('_all_sch_map.csv', paper_ids)\n",
    "# select_papers('_all_sch_match', entity_matching, '_entity_matching.csv')\n",
    "# select_papers('_all_sch_match', schema_mapping, '_schema_mapping.csv')"
   ]
  },
  {
   "cell_type": "markdown",
   "metadata": {},
   "source": [
    "## Entity resolution"
   ]
  },
  {
   "cell_type": "code",
   "execution_count": 47,
   "metadata": {
    "ExecuteTime": {
     "end_time": "2020-03-30T17:34:40.464253Z",
     "start_time": "2020-03-30T17:33:24.919820Z"
    },
    "collapsed": true
   },
   "outputs": [
    {
     "name": "stderr",
     "output_type": "stream",
     "text": [
      "\n",
      "\n",
      "\n",
      "0it [00:00, ?it/s]\u001b[A\u001b[A\u001b[A"
     ]
    },
    {
     "name": "stdout",
     "output_type": "stream",
     "text": [
      "Total number of papers: 16\n"
     ]
    },
    {
     "name": "stderr",
     "output_type": "stream",
     "text": [
      "\n",
      "\n",
      "\n",
      "1it [00:01,  1.37s/it]\u001b[A\u001b[A\u001b[A\n",
      "\n",
      "\n",
      "2it [00:01,  1.14s/it]\u001b[A\u001b[A\u001b[A\n",
      "\n",
      "\n",
      "3it [00:03,  1.20s/it]\u001b[A\u001b[A\u001b[A\n",
      "\n",
      "\n",
      "4it [00:03,  1.05it/s]\u001b[A\u001b[A\u001b[A\n",
      "\n",
      "\n",
      "5it [00:05,  1.16s/it]\u001b[A\u001b[A\u001b[A\n",
      "\n",
      "\n",
      "6it [00:05,  1.00it/s]\u001b[A\u001b[A\u001b[A\n",
      "\n",
      "\n",
      "7it [00:06,  1.01s/it]\u001b[A\u001b[A\u001b[A\n",
      "\n",
      "\n",
      "8it [00:09,  1.35s/it]\u001b[A\u001b[A\u001b[A\n",
      "\n",
      "\n",
      "9it [00:12,  1.94s/it]\u001b[A\u001b[A\u001b[A\n",
      "\n",
      "\n",
      "10it [00:13,  1.68s/it]\u001b[A\u001b[A\u001b[A\n",
      "\n",
      "\n",
      "11it [00:15,  1.68s/it]\u001b[A\u001b[A\u001b[A\n",
      "\n",
      "\n",
      "12it [00:16,  1.45s/it]\u001b[A\u001b[A\u001b[A\n",
      "\n",
      "\n",
      "13it [00:17,  1.30s/it]\u001b[A\u001b[A\u001b[A\n",
      "\n",
      "\n",
      "14it [00:18,  1.42s/it]\u001b[A\u001b[A\u001b[A\n",
      "\n",
      "\n",
      "15it [00:20,  1.61s/it]\u001b[A\u001b[A\u001b[A\n",
      "\n",
      "\n",
      "16it [00:22,  1.39s/it]\u001b[A\u001b[A\u001b[A\n"
     ]
    },
    {
     "name": "stdout",
     "output_type": "stream",
     "text": [
      "Remaining papers: 0\n"
     ]
    },
    {
     "name": "stderr",
     "output_type": "stream",
     "text": [
      "\n",
      "\n",
      "\n",
      "0it [00:00, ?it/s]\u001b[A\u001b[A\u001b[A"
     ]
    },
    {
     "name": "stdout",
     "output_type": "stream",
     "text": [
      "Total number of papers: 49\n"
     ]
    },
    {
     "name": "stderr",
     "output_type": "stream",
     "text": [
      "\n",
      "\n",
      "\n",
      "1it [00:01,  1.01s/it]\u001b[A\u001b[A\u001b[A\n",
      "\n",
      "\n",
      "2it [00:01,  1.06it/s]\u001b[A\u001b[A\u001b[A\n",
      "\n",
      "\n",
      "3it [00:02,  1.03it/s]\u001b[A\u001b[A\u001b[A\n",
      "\n",
      "\n",
      "4it [00:03,  1.08it/s]\u001b[A\u001b[A\u001b[A\n",
      "\n",
      "\n",
      "5it [00:04,  1.14it/s]\u001b[A\u001b[A\u001b[A\n",
      "\n",
      "\n",
      "6it [00:05,  1.07it/s]\u001b[A\u001b[A\u001b[A\n",
      "\n",
      "\n",
      "7it [00:06,  1.14it/s]\u001b[A\u001b[A\u001b[A\n",
      "\n",
      "\n",
      "8it [00:07,  1.18it/s]\u001b[A\u001b[A\u001b[A\n",
      "\n",
      "\n",
      "9it [00:07,  1.21it/s]\u001b[A\u001b[A\u001b[A\n",
      "\n",
      "\n",
      "10it [00:09,  1.22s/it]\u001b[A\u001b[A\u001b[A\n",
      "\n",
      "\n",
      "11it [00:10,  1.12s/it]\u001b[A\u001b[A\u001b[A\n",
      "\n",
      "\n",
      "12it [00:11,  1.03s/it]\u001b[A\u001b[A\u001b[A\n",
      "\n",
      "\n",
      "13it [00:12,  1.08s/it]\u001b[A\u001b[A\u001b[A\n",
      "\n",
      "\n",
      "14it [00:13,  1.03s/it]\u001b[A\u001b[A\u001b[A\n",
      "\n",
      "\n",
      "15it [00:14,  1.01s/it]\u001b[A\u001b[A\u001b[A\n",
      "\n",
      "\n",
      "16it [00:14,  1.26it/s]\u001b[A\u001b[A\u001b[A\n",
      "\n",
      "\n",
      "17it [00:15,  1.19it/s]\u001b[A\u001b[A\u001b[A\n",
      "\n",
      "\n",
      "18it [00:16,  1.20it/s]\u001b[A\u001b[A\u001b[A\n",
      "\n",
      "\n",
      "19it [00:17,  1.11it/s]\u001b[A\u001b[A\u001b[A\n",
      "\n",
      "\n",
      "20it [00:18,  1.25it/s]\u001b[A\u001b[A\u001b[A\n",
      "\n",
      "\n",
      "21it [00:19,  1.20it/s]\u001b[A\u001b[A\u001b[A\n",
      "\n",
      "\n",
      "22it [00:20,  1.11it/s]\u001b[A\u001b[A\u001b[A\n",
      "\n",
      "\n",
      "23it [00:21,  1.07it/s]\u001b[A\u001b[A\u001b[A\n",
      "\n",
      "\n",
      "24it [00:22,  1.02s/it]\u001b[A\u001b[A\u001b[A\n",
      "\n",
      "\n",
      "25it [00:23,  1.02it/s]\u001b[A\u001b[A\u001b[A\n",
      "\n",
      "\n",
      "26it [00:25,  1.25s/it]\u001b[A\u001b[A\u001b[A\n",
      "\n",
      "\n",
      "27it [00:26,  1.10s/it]\u001b[A\u001b[A\u001b[A\n",
      "\n",
      "\n",
      "28it [00:26,  1.09it/s]\u001b[A\u001b[A\u001b[A\n",
      "\n",
      "\n",
      "29it [00:27,  1.14it/s]\u001b[A\u001b[A\u001b[A\n",
      "\n",
      "\n",
      "30it [00:28,  1.01s/it]\u001b[A\u001b[A\u001b[A\n",
      "\n",
      "\n",
      "31it [00:30,  1.29s/it]\u001b[A\u001b[A\u001b[A\n",
      "\n",
      "\n",
      "32it [00:31,  1.05s/it]\u001b[A\u001b[A\u001b[A\n",
      "\n",
      "\n",
      "33it [00:32,  1.01s/it]\u001b[A\u001b[A\u001b[A\n",
      "\n",
      "\n",
      "34it [00:32,  1.07it/s]\u001b[A\u001b[A\u001b[A\n",
      "\n",
      "\n",
      "35it [00:33,  1.13it/s]\u001b[A\u001b[A\u001b[A\n",
      "\n",
      "\n",
      "36it [00:34,  1.11it/s]\u001b[A\u001b[A\u001b[A\n",
      "\n",
      "\n",
      "37it [00:35,  1.08it/s]\u001b[A\u001b[A\u001b[A\n",
      "\n",
      "\n",
      "38it [00:36,  1.16it/s]\u001b[A\u001b[A\u001b[A\n",
      "\n",
      "\n",
      "39it [00:36,  1.20it/s]\u001b[A\u001b[A\u001b[A\n",
      "\n",
      "\n",
      "40it [00:37,  1.20it/s]\u001b[A\u001b[A\u001b[A\n",
      "\n",
      "\n",
      "41it [00:38,  1.30it/s]\u001b[A\u001b[A\u001b[A\n",
      "\n",
      "\n",
      "42it [00:38,  1.54it/s]\u001b[A\u001b[A\u001b[A\n",
      "\n",
      "\n",
      "43it [00:40,  1.01s/it]\u001b[A\u001b[A\u001b[A\n",
      "\n",
      "\n",
      "44it [00:42,  1.30s/it]\u001b[A\u001b[A\u001b[A\n",
      "\n",
      "\n",
      "45it [00:43,  1.14s/it]\u001b[A\u001b[A\u001b[A\n",
      "\n",
      "\n",
      "46it [00:44,  1.16s/it]\u001b[A\u001b[A\u001b[A\n",
      "\n",
      "\n",
      "47it [00:46,  1.39s/it]\u001b[A\u001b[A\u001b[A\n",
      "\n",
      "\n",
      "48it [00:47,  1.31s/it]\u001b[A\u001b[A\u001b[A\n",
      "\n",
      "\n",
      "49it [00:49,  1.00s/it]\u001b[A\u001b[A\u001b[A"
     ]
    },
    {
     "name": "stdout",
     "output_type": "stream",
     "text": [
      "Remaining papers: 0\n"
     ]
    },
    {
     "name": "stderr",
     "output_type": "stream",
     "text": [
      "\n"
     ]
    }
   ],
   "source": [
    "# Evaluation of entity resolution approaches on real-world match problems\n",
    "entity_resolution_survey = 'c479e3fc832f8bdc63325525995710ed9c314ff8'\n",
    "\n",
    "ref_er_df = get_papers(entity_resolution_survey, 'references')\n",
    "cit_er_df = get_papers(entity_resolution_survey, 'citations')\n",
    "\n",
    "entity_resolution_df = pd.concat([cit_er_df, ref_er_df])\n",
    "filtered_entity_resolution = filter_save_selected_papers(entity_resolution_df,\n",
    "                             'entity_resolution', entity_resolution_survey)\n"
   ]
  },
  {
   "cell_type": "code",
   "execution_count": 10,
   "metadata": {
    "ExecuteTime": {
     "end_time": "2020-04-09T15:35:56.756409Z",
     "start_time": "2020-04-09T15:35:55.763024Z"
    }
   },
   "outputs": [],
   "source": [
    "# Entity Resolution: Past, Present and Yet-to-Come\n",
    "entity_resolution_survey_2 = 'c86ebb69053348f7dce9cd155cbf84e4067dda45'\n",
    "\n",
    "ref_er_df_2 = get_papers(entity_resolution_survey_2, 'references', True)\n",
    "cit_er_df_2 = get_papers(entity_resolution_survey_2, 'citations')\n",
    "\n",
    "entity_resolution_df_2 = pd.concat([cit_er_df_2, ref_er_df_2])\n",
    "filtered_entity_resolution_2 = filter_save_selected_papers(entity_resolution_df_2,\n",
    "                             'entity_resolution', entity_resolution_survey_2)\n",
    "\n"
   ]
  },
  {
   "cell_type": "markdown",
   "metadata": {},
   "source": [
    "### Union the papers"
   ]
  },
  {
   "cell_type": "code",
   "execution_count": null,
   "metadata": {},
   "outputs": [],
   "source": [
    "er_df = pd.concat([filtered_entity_resolution, filtered_entity_resolution_2])\n",
    "er_df = filter_save_selected_papers(er_df, 'all_er', '')\n"
   ]
  },
  {
   "cell_type": "markdown",
   "metadata": {},
   "source": [
    "### Manually selecting the papers"
   ]
  },
  {
   "cell_type": "code",
   "execution_count": 17,
   "metadata": {
    "ExecuteTime": {
     "end_time": "2020-04-16T14:33:11.818817Z",
     "start_time": "2020-04-16T14:33:11.801146Z"
    }
   },
   "outputs": [],
   "source": [
    "entity_resolution_survey_2 = 'c86ebb69053348f7dce9cd155cbf84e4067dda45'\n",
    "\n",
    "\n",
    "index_em = ['c0a29cb35c2965930566d6a407da043e18431eaa', \n",
    "           '7f8a1ba888fc4ce551530914d68f23ac54ce265f',\n",
    "           '8bc23235070ce181d34002e2a44e4b233beaa732',\n",
    "           '52d2b8b64fe06b1f920c0d72e321a6f904800d5c']\n",
    "select_papers('{}_entity_resolution.csv'\n",
    "               .format(entity_resolution_survey_2), \n",
    "              index_em, '_entity_matching_2.csv')\n",
    "\n",
    "index_entity_res = ['62e8cdd77f3494a48a48b55150a093833788386d',\n",
    "                   '904aac3f0c8bf7f9d97a23d5f563c98fcfb6d104',\n",
    "                   '4c63aee3ac3d136560c5a333520a9851333a9ded',\n",
    "                   '814f90ef27bfe5a90e118a1df0e24488e75b7939',\n",
    "                   '71dfda705992e69797115f94f6f00bc56e0923b5',\n",
    "                   '8717e86b0b12010f51a6b939cf070989355802ee',\n",
    "                   'ddf36ee57133fa5fdff848da15b21983dc893a5a']\n",
    "selected_entity_res = select_papers('{}_entity_resolution.csv'\n",
    "                                    .format(entity_resolution_survey_2), \n",
    "                                    index_entity_res, '_entity_res_2.csv')\n"
   ]
  },
  {
   "cell_type": "markdown",
   "metadata": {},
   "source": [
    "## Entity matching"
   ]
  },
  {
   "cell_type": "code",
   "execution_count": 49,
   "metadata": {
    "ExecuteTime": {
     "end_time": "2020-03-30T17:39:19.987792Z",
     "start_time": "2020-03-30T17:34:49.883817Z"
    },
    "code_folding": [],
    "collapsed": true
   },
   "outputs": [
    {
     "name": "stderr",
     "output_type": "stream",
     "text": [
      "\n",
      "\n",
      "\n",
      "0it [00:00, ?it/s]\u001b[A\u001b[A\u001b[A"
     ]
    },
    {
     "name": "stdout",
     "output_type": "stream",
     "text": [
      "Total number of papers: 36\n"
     ]
    },
    {
     "name": "stderr",
     "output_type": "stream",
     "text": [
      "\n",
      "\n",
      "\n",
      "1it [00:01,  1.25s/it]\u001b[A\u001b[A\u001b[A\n",
      "\n",
      "\n",
      "2it [00:02,  1.36s/it]\u001b[A\u001b[A\u001b[A\n",
      "\n",
      "\n",
      "3it [00:03,  1.16s/it]\u001b[A\u001b[A\u001b[A\n",
      "\n",
      "\n",
      "4it [00:05,  1.25s/it]\u001b[A\u001b[A\u001b[A\n",
      "\n",
      "\n",
      "5it [00:05,  1.14s/it]\u001b[A\u001b[A\u001b[A\n",
      "\n",
      "\n",
      "6it [00:09,  1.99s/it]\u001b[A\u001b[A\u001b[A\n",
      "\n",
      "\n",
      "7it [00:11,  1.93s/it]\u001b[A\u001b[A\u001b[A\n",
      "\n",
      "\n",
      "8it [00:12,  1.62s/it]\u001b[A\u001b[A\u001b[A\n",
      "\n",
      "\n",
      "9it [00:14,  1.60s/it]\u001b[A\u001b[A\u001b[A\n",
      "\n",
      "\n",
      "10it [00:16,  1.81s/it]\u001b[A\u001b[A\u001b[A\n",
      "\n",
      "\n",
      "11it [00:17,  1.64s/it]\u001b[A\u001b[A\u001b[A\n",
      "\n",
      "\n",
      "12it [00:23,  2.89s/it]\u001b[A\u001b[A\u001b[A\n",
      "\n",
      "\n",
      "13it [00:24,  2.37s/it]\u001b[A\u001b[A\u001b[A\n",
      "\n",
      "\n",
      "14it [00:25,  1.94s/it]\u001b[A\u001b[A\u001b[A\n",
      "\n",
      "\n",
      "15it [00:27,  1.81s/it]\u001b[A\u001b[A\u001b[A\n",
      "\n",
      "\n",
      "16it [00:27,  1.50s/it]\u001b[A\u001b[A\u001b[A\n",
      "\n",
      "\n",
      "17it [00:28,  1.16s/it]\u001b[A\u001b[A\u001b[A\n",
      "\n",
      "\n",
      "18it [00:29,  1.08s/it]\u001b[A\u001b[A\u001b[A\n",
      "\n",
      "\n",
      "19it [00:30,  1.08s/it]\u001b[A\u001b[A\u001b[A\n",
      "\n",
      "\n",
      "20it [00:30,  1.02it/s]\u001b[A\u001b[A\u001b[A\n",
      "\n",
      "\n",
      "21it [00:32,  1.02s/it]\u001b[A\u001b[A\u001b[A\n",
      "\n",
      "\n",
      "22it [00:33,  1.04s/it]\u001b[A\u001b[A\u001b[A\n",
      "\n",
      "\n",
      "23it [00:33,  1.09it/s]\u001b[A\u001b[A\u001b[A\n",
      "\n",
      "\n",
      "24it [00:35,  1.07s/it]\u001b[A\u001b[A\u001b[A\n",
      "\n",
      "\n",
      "25it [00:36,  1.03s/it]\u001b[A\u001b[A\u001b[A\n",
      "\n",
      "\n",
      "26it [00:37,  1.00it/s]\u001b[A\u001b[A\u001b[A\n",
      "\n",
      "\n",
      "27it [00:38,  1.01it/s]\u001b[A\u001b[A\u001b[A\n",
      "\n",
      "\n",
      "28it [00:38,  1.27it/s]\u001b[A\u001b[A\u001b[A\n",
      "\n",
      "\n",
      "29it [00:39,  1.21it/s]\u001b[A\u001b[A\u001b[A\n",
      "\n",
      "\n",
      "30it [00:43,  1.79s/it]\u001b[A\u001b[A\u001b[A\n",
      "\n",
      "\n",
      "31it [00:45,  1.80s/it]\u001b[A\u001b[A\u001b[A\n",
      "\n",
      "\n",
      "32it [00:46,  1.63s/it]\u001b[A\u001b[A\u001b[A\n",
      "\n",
      "\n",
      "33it [00:47,  1.50s/it]\u001b[A\u001b[A\u001b[A\n",
      "\n",
      "\n",
      "34it [00:49,  1.58s/it]\u001b[A\u001b[A\u001b[A\n",
      "\n",
      "\n",
      "35it [00:50,  1.38s/it]\u001b[A\u001b[A\u001b[A\n",
      "\n",
      "\n",
      "36it [00:51,  1.43s/it]\u001b[A\u001b[A\u001b[A\n"
     ]
    },
    {
     "name": "stdout",
     "output_type": "stream",
     "text": [
      "Remaining papers: 0\n"
     ]
    },
    {
     "name": "stderr",
     "output_type": "stream",
     "text": [
      "\n",
      "\n",
      "\n",
      "0it [00:00, ?it/s]\u001b[A\u001b[A\u001b[A"
     ]
    },
    {
     "name": "stdout",
     "output_type": "stream",
     "text": [
      "Total number of papers: 38\n"
     ]
    },
    {
     "name": "stderr",
     "output_type": "stream",
     "text": [
      "\n",
      "\n",
      "\n",
      "1it [00:00,  1.04it/s]\u001b[A\u001b[A\u001b[A\n",
      "\n",
      "\n",
      "2it [00:02,  1.13s/it]\u001b[A\u001b[A\u001b[A\n",
      "\n",
      "\n",
      "3it [00:03,  1.06s/it]\u001b[A\u001b[A\u001b[A\n",
      "\n",
      "\n",
      "4it [00:05,  1.31s/it]\u001b[A\u001b[A\u001b[A\n",
      "\n",
      "\n",
      "5it [00:06,  1.14s/it]\u001b[A\u001b[A\u001b[A\n",
      "\n",
      "\n",
      "6it [00:06,  1.03it/s]\u001b[A\u001b[A\u001b[A\n",
      "\n",
      "\n",
      "7it [00:07,  1.01s/it]\u001b[A\u001b[A\u001b[A\n",
      "\n",
      "\n",
      "8it [00:08,  1.18it/s]\u001b[A\u001b[A\u001b[A\n",
      "\n",
      "\n",
      "9it [00:09,  1.01it/s]\u001b[A\u001b[A\u001b[A\n",
      "\n",
      "\n",
      "10it [00:10,  1.01it/s]\u001b[A\u001b[A\u001b[A\n",
      "\n",
      "\n",
      "11it [00:11,  1.08it/s]\u001b[A\u001b[A\u001b[A\n",
      "\n",
      "\n",
      "12it [00:12,  1.15it/s]\u001b[A\u001b[A\u001b[A\n",
      "\n",
      "\n",
      "13it [00:12,  1.11it/s]\u001b[A\u001b[A\u001b[A\n",
      "\n",
      "\n",
      "14it [00:13,  1.12it/s]\u001b[A\u001b[A\u001b[A\n",
      "\n",
      "\n",
      "15it [00:14,  1.11it/s]\u001b[A\u001b[A\u001b[A\n",
      "\n",
      "\n",
      "16it [00:15,  1.24it/s]\u001b[A\u001b[A\u001b[A\n",
      "\n",
      "\n",
      "17it [00:16,  1.15it/s]\u001b[A\u001b[A\u001b[A\n",
      "\n",
      "\n",
      "18it [00:17,  1.25it/s]\u001b[A\u001b[A\u001b[A\n",
      "\n",
      "\n",
      "19it [00:17,  1.25it/s]\u001b[A\u001b[A\u001b[A\n",
      "\n",
      "\n",
      "20it [00:18,  1.40it/s]\u001b[A\u001b[A\u001b[A\n",
      "\n",
      "\n",
      "21it [00:19,  1.22it/s]\u001b[A\u001b[A\u001b[A\n",
      "\n",
      "\n",
      "22it [00:20,  1.08it/s]\u001b[A\u001b[A\u001b[A\n",
      "\n",
      "\n",
      "23it [00:21,  1.14it/s]\u001b[A\u001b[A\u001b[A\n",
      "\n",
      "\n",
      "24it [00:22,  1.10it/s]\u001b[A\u001b[A\u001b[A\n",
      "\n",
      "\n",
      "25it [00:23,  1.14it/s]\u001b[A\u001b[A\u001b[A\n",
      "\n",
      "\n",
      "26it [00:24,  1.03it/s]\u001b[A\u001b[A\u001b[A\n",
      "\n",
      "\n",
      "27it [00:25,  1.01it/s]\u001b[A\u001b[A\u001b[A\n",
      "\n",
      "\n",
      "28it [00:25,  1.27it/s]\u001b[A\u001b[A\u001b[A\n",
      "\n",
      "\n",
      "29it [00:26,  1.23it/s]\u001b[A\u001b[A\u001b[A\n",
      "\n",
      "\n",
      "30it [00:27,  1.13it/s]\u001b[A\u001b[A\u001b[A\n",
      "\n",
      "\n",
      "31it [00:28,  1.19it/s]\u001b[A\u001b[A\u001b[A\n",
      "\n",
      "\n",
      "32it [00:28,  1.40it/s]\u001b[A\u001b[A\u001b[A"
     ]
    },
    {
     "name": "stdout",
     "output_type": "stream",
     "text": [
      "Remaining papers: 6\n",
      "Sleep 90s\n"
     ]
    },
    {
     "name": "stderr",
     "output_type": "stream",
     "text": [
      "\n",
      "\n",
      "\n",
      "\n",
      "0it [00:00, ?it/s]\u001b[A\u001b[A\u001b[A\u001b[A"
     ]
    },
    {
     "name": "stdout",
     "output_type": "stream",
     "text": [
      "Total number of papers: 6\n"
     ]
    },
    {
     "name": "stderr",
     "output_type": "stream",
     "text": [
      "0it [00:00, ?it/s]\n"
     ]
    },
    {
     "name": "stdout",
     "output_type": "stream",
     "text": [
      "Remaining papers: 6\n",
      "Sleep 90s\n"
     ]
    },
    {
     "name": "stderr",
     "output_type": "stream",
     "text": [
      "\n",
      "\n",
      "\n",
      "\n",
      "0it [00:00, ?it/s]\u001b[A\u001b[A\u001b[A\u001b[A"
     ]
    },
    {
     "name": "stdout",
     "output_type": "stream",
     "text": [
      "Total number of papers: 6\n"
     ]
    },
    {
     "name": "stderr",
     "output_type": "stream",
     "text": [
      "\n",
      "\n",
      "\n",
      "\n",
      "1it [00:00,  1.52it/s]\u001b[A\u001b[A\u001b[A\u001b[A\n",
      "\n",
      "\n",
      "\n",
      "2it [00:01,  1.52it/s]\u001b[A\u001b[A\u001b[A\u001b[A\n",
      "\n",
      "\n",
      "\n",
      "3it [00:02,  1.29it/s]\u001b[A\u001b[A\u001b[A\u001b[A\n",
      "\n",
      "\n",
      "\n",
      "4it [00:03,  1.21it/s]\u001b[A\u001b[A\u001b[A\u001b[A\n",
      "\n",
      "\n",
      "\n",
      "5it [00:04,  1.09it/s]\u001b[A\u001b[A\u001b[A\u001b[A\n",
      "\n",
      "\n",
      "\n",
      "6it [00:05,  1.14it/s]\u001b[A\u001b[A\u001b[A\u001b[A"
     ]
    },
    {
     "name": "stdout",
     "output_type": "stream",
     "text": [
      "Remaining papers: 0\n"
     ]
    },
    {
     "name": "stderr",
     "output_type": "stream",
     "text": [
      "\n"
     ]
    }
   ],
   "source": [
    "# Frameworks for entity matching: A comparison\n",
    "entity_matching_survey = 'caa5f6292a065aa1604ff00186d48d2d59cffd63'\n",
    "\n",
    "ref_em_df = get_papers(entity_matching_survey, 'references')\n",
    "cit_em_df = get_papers(entity_matching_survey, 'citations')\n",
    "\n",
    "entity_matching_df = pd.concat([cit_em_df, ref_em_df])\n",
    "filtered_entity_matching = filter_save_selected_papers(entity_matching_df,\n",
    "                                                       'entity_matching',\n",
    "                                                       entity_matching_survey)\n"
   ]
  },
  {
   "cell_type": "markdown",
   "metadata": {},
   "source": [
    "### Manually filter the papers"
   ]
  },
  {
   "cell_type": "code",
   "execution_count": 50,
   "metadata": {
    "ExecuteTime": {
     "end_time": "2020-03-30T17:39:25.354901Z",
     "start_time": "2020-03-30T17:39:25.340578Z"
    }
   },
   "outputs": [],
   "source": [
    "index_entity_match = ['0ab4f5f03665fadd1d838b22fc3991062fb91928',\n",
    "                      '632eca15ed20f87490c60a6005c4c58f06bee61b',\n",
    "                      'd5f1bf73988ade49a6358afa12b36041118bb042',\n",
    "                      '761b151368e709b972a1fa2c6f672ad6c675f37a',\n",
    "                      'e185c3798419512963996b49760ca0e48b3e57bf',\n",
    "                      '8ff529534f4f83f93a1d0a100d089f2042e53f3c',\n",
    "                      '7edf5ffa6213d5f8c44f07a10411cf617363d0a0']\n",
    "selected_entity_match = select_papers(\n",
    "    '{}_entity_matching.csv'.format(entity_matching_survey),\n",
    "    index_entity_match)\n",
    "\n",
    "index_er = ['904aac3f0c8bf7f9d97a23d5f563c98fcfb6d104',\n",
    "           '4fff4cb2a07a14bf3e41188d094944e9d95a5737']\n",
    "selected_er = select_papers('{}_entity_matching.csv'.format(entity_matching_survey), index_er,\n",
    "                            '_entity_resolution.csv')"
   ]
  },
  {
   "cell_type": "code",
   "execution_count": null,
   "metadata": {},
   "outputs": [],
   "source": []
  }
 ],
 "metadata": {
  "kernelspec": {
   "display_name": "Python 3",
   "language": "python",
   "name": "python3"
  },
  "language_info": {
   "codemirror_mode": {
    "name": "ipython",
    "version": 3
   },
   "file_extension": ".py",
   "mimetype": "text/x-python",
   "name": "python",
   "nbconvert_exporter": "python",
   "pygments_lexer": "ipython3",
   "version": "3.8.2"
  },
  "toc": {
   "base_numbering": 1,
   "nav_menu": {},
   "number_sections": true,
   "sideBar": true,
   "skip_h1_title": false,
   "title_cell": "Table of Contents",
   "title_sidebar": "Contents",
   "toc_cell": false,
   "toc_position": {},
   "toc_section_display": true,
   "toc_window_display": true
  },
  "varInspector": {
   "cols": {
    "lenName": 16,
    "lenType": 16,
    "lenVar": 40
   },
   "kernels_config": {
    "python": {
     "delete_cmd_postfix": "",
     "delete_cmd_prefix": "del ",
     "library": "var_list.py",
     "varRefreshCmd": "print(var_dic_list())"
    },
    "r": {
     "delete_cmd_postfix": ") ",
     "delete_cmd_prefix": "rm(",
     "library": "var_list.r",
     "varRefreshCmd": "cat(var_dic_list()) "
    }
   },
   "types_to_exclude": [
    "module",
    "function",
    "builtin_function_or_method",
    "instance",
    "_Feature"
   ],
   "window_display": false
  }
 },
 "nbformat": 4,
 "nbformat_minor": 4
}
